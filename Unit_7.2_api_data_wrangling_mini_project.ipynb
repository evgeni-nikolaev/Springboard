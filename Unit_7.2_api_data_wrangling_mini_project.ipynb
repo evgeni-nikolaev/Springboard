{
 "cells": [
  {
   "cell_type": "markdown",
   "metadata": {},
   "source": [
    "This exercise will require you to pull some data from the Qunadl API. Qaundl is currently the most widely used aggregator of financial market data."
   ]
  },
  {
   "cell_type": "markdown",
   "metadata": {},
   "source": [
    "As a first step, you will need to register a free account on the http://www.quandl.com website."
   ]
  },
  {
   "cell_type": "markdown",
   "metadata": {},
   "source": [
    "After you register, you will be provided with a unique API key, that you should store:"
   ]
  },
  {
   "cell_type": "code",
   "execution_count": 91,
   "metadata": {
    "tags": []
   },
   "outputs": [],
   "source": [
    "# Store the API key as a string - according to PEP8, constants are always named in all upper case\n",
    "API_KEY = 'LruAovWP-YVsCWSxytXQ'"
   ]
  },
  {
   "cell_type": "markdown",
   "metadata": {},
   "source": [
    "Qaundl has a large number of data sources, but, unfortunately, most of them require a Premium subscription. Still, there are also a good number of free datasets."
   ]
  },
  {
   "cell_type": "markdown",
   "metadata": {},
   "source": [
    "For this mini project, we will focus on equities data from the Frankfurt Stock Exhange (FSE), which is available for free. We'll try and analyze the stock prices of a company called Carl Zeiss Meditec, which manufactures tools for eye examinations, as well as medical lasers for laser eye surgery: https://www.zeiss.com/meditec/int/home.html. The company is listed under the stock ticker AFX_X."
   ]
  },
  {
   "cell_type": "markdown",
   "metadata": {},
   "source": [
    "You can find the detailed Quandl API instructions here: https://docs.quandl.com/docs/time-series"
   ]
  },
  {
   "cell_type": "markdown",
   "metadata": {},
   "source": [
    "While there is a dedicated Python package for connecting to the Quandl API, we would prefer that you use the *requests* package, which can be easily downloaded using *pip* or *conda*. You can find the documentation for the package here: http://docs.python-requests.org/en/master/ "
   ]
  },
  {
   "cell_type": "markdown",
   "metadata": {},
   "source": [
    "Finally, apart from the *requests* package, you are encouraged to not use any third party Python packages, such as *pandas*, and instead focus on what's available in the Python Standard Library (the *collections* module might come in handy: https://pymotw.com/3/collections/ ).\n",
    "Also, since you won't have access to DataFrames, you are encouraged to us Python's native data structures - preferably dictionaries, though some questions can also be answered using lists.\n",
    "You can read more on these data structures here: https://docs.python.org/3/tutorial/datastructures.html"
   ]
  },
  {
   "cell_type": "markdown",
   "metadata": {},
   "source": [
    "Keep in mind that the JSON responses you will be getting from the API map almost one-to-one to Python's dictionaries. Unfortunately, they can be very nested, so make sure you read up on indexing dictionaries in the documentation provided above."
   ]
  },
  {
   "cell_type": "code",
   "execution_count": 92,
   "metadata": {
    "tags": []
   },
   "outputs": [],
   "source": [
    "# First, import the relevant modules\n",
    "import requests\n",
    "import json"
   ]
  },
  {
   "cell_type": "code",
   "execution_count": 93,
   "metadata": {
    "tags": []
   },
   "outputs": [
    {
     "data": {
      "text/plain": [
       "200"
      ]
     },
     "execution_count": 93,
     "metadata": {},
     "output_type": "execute_result"
    }
   ],
   "source": [
    "# Now, call the Quandl API and pull out a small sample of the data (only one day) to get a glimpse\n",
    "# into the JSON structure that will be returned\n",
    "url= \"https://www.quandl.com/api/v3/datasets/FSE/AFX_X/data.json?api_key=\"+API_KEY\n",
    "r = requests.get(url)\n",
    "r.status_code"
   ]
  },
  {
   "cell_type": "code",
   "execution_count": 94,
   "metadata": {
    "tags": []
   },
   "outputs": [],
   "source": [
    "# Inspect the JSON structure of the object you created, and take note of how nested it is,\n",
    "# as well as the overall structure\n",
    "json_data = r.json()"
   ]
  },
  {
   "cell_type": "markdown",
   "metadata": {},
   "source": [
    "__These are your tasks for this mini project:__\n",
    "\n",
    "1. Collect data from the Franfurt Stock Exchange, for the ticker AFX_X, for the whole year 2017 (keep in mind that the date format is YYYY-MM-DD).\n",
    "2. Convert the returned JSON object into a Python dictionary.\n",
    "3. Calculate what the highest and lowest opening prices were for the stock in this period.\n",
    "4. What was the largest change in any one day (based on High and Low price)?\n",
    "5. What was the largest change between any two days (based on Closing Price)?\n",
    "6. What was the average daily trading volume during this year?\n",
    "7. (Optional) What was the median trading volume during this year. (Note: you may need to implement your own function for calculating the median.)"
   ]
  },
  {
   "cell_type": "markdown",
   "metadata": {},
   "source": [
    "# Collect data from the Franfurt Stock Exchange, for the ticker AFX_X, for the whole year 2017 (keep in mind that the date format is YYYY-MM-DD)"
   ]
  },
  {
   "cell_type": "code",
   "execution_count": 95,
   "metadata": {
    "tags": []
   },
   "outputs": [
    {
     "data": {
      "text/plain": [
       "200"
      ]
     },
     "execution_count": 95,
     "metadata": {},
     "output_type": "execute_result"
    }
   ],
   "source": [
    "url= \"https://www.quandl.com/api/v3/datasets/FSE/AFX_X/data.json?+&start_date=2017-01-01&end_date=2017-12-31&\"+API_KEY\n",
    "r_2017 = requests.get(url)\n",
    "# Checking the response status code. The result should be 200 if the data is imported properly.\n",
    "r_2017.status_code"
   ]
  },
  {
   "cell_type": "markdown",
   "metadata": {},
   "source": [
    "# Convert the returned JSON object into a Python dictionary."
   ]
  },
  {
   "cell_type": "code",
   "execution_count": 96,
   "metadata": {},
   "outputs": [
    {
     "data": {
      "text/plain": [
       "dict"
      ]
     },
     "execution_count": 96,
     "metadata": {},
     "output_type": "execute_result"
    }
   ],
   "source": [
    "json_data_2017 = r_2017.json()\n",
    "type(json_data_2017)"
   ]
  },
  {
   "cell_type": "markdown",
   "metadata": {},
   "source": [
    "# Calculate what the highest and lowest opening prices were for the stock in this period."
   ]
  },
  {
   "cell_type": "code",
   "execution_count": 97,
   "metadata": {},
   "outputs": [
    {
     "name": "stdout",
     "output_type": "stream",
     "text": [
      "dataset_data\n"
     ]
    }
   ],
   "source": [
    "for k in json_data_2017.keys():\n",
    "    print(k)"
   ]
  },
  {
   "cell_type": "code",
   "execution_count": 98,
   "metadata": {},
   "outputs": [
    {
     "data": {
      "text/plain": [
       "10"
      ]
     },
     "execution_count": 98,
     "metadata": {},
     "output_type": "execute_result"
    }
   ],
   "source": [
    "len(json_data_2017['dataset_data'])"
   ]
  },
  {
   "cell_type": "code",
   "execution_count": 99,
   "metadata": {},
   "outputs": [
    {
     "data": {
      "text/plain": [
       "dict_keys(['limit', 'transform', 'column_index', 'column_names', 'start_date', 'end_date', 'frequency', 'data', 'collapse', 'order'])"
      ]
     },
     "execution_count": 99,
     "metadata": {},
     "output_type": "execute_result"
    }
   ],
   "source": [
    "json_data_2017['dataset_data'].keys()"
   ]
  },
  {
   "cell_type": "code",
   "execution_count": 100,
   "metadata": {},
   "outputs": [
    {
     "data": {
      "text/plain": [
       "['Date',\n",
       " 'Open',\n",
       " 'High',\n",
       " 'Low',\n",
       " 'Close',\n",
       " 'Change',\n",
       " 'Traded Volume',\n",
       " 'Turnover',\n",
       " 'Last Price of the Day',\n",
       " 'Daily Traded Units',\n",
       " 'Daily Turnover']"
      ]
     },
     "execution_count": 100,
     "metadata": {},
     "output_type": "execute_result"
    }
   ],
   "source": [
    "json_data_2017['dataset_data']['column_names']"
   ]
  },
  {
   "cell_type": "code",
   "execution_count": 101,
   "metadata": {},
   "outputs": [
    {
     "data": {
      "text/plain": [
       "255"
      ]
     },
     "execution_count": 101,
     "metadata": {},
     "output_type": "execute_result"
    }
   ],
   "source": [
    "len(json_data_2017['dataset_data']['data'])"
   ]
  },
  {
   "cell_type": "code",
   "execution_count": 102,
   "metadata": {},
   "outputs": [
    {
     "data": {
      "text/plain": [
       "[['2017-12-29',\n",
       "  51.76,\n",
       "  51.94,\n",
       "  51.45,\n",
       "  51.76,\n",
       "  None,\n",
       "  34640.0,\n",
       "  1792304.0,\n",
       "  None,\n",
       "  None,\n",
       "  None],\n",
       " ['2017-12-28',\n",
       "  51.65,\n",
       "  51.82,\n",
       "  51.43,\n",
       "  51.6,\n",
       "  None,\n",
       "  40660.0,\n",
       "  2099024.0,\n",
       "  None,\n",
       "  None,\n",
       "  None],\n",
       " ['2017-12-27',\n",
       "  51.45,\n",
       "  51.89,\n",
       "  50.76,\n",
       "  51.82,\n",
       "  None,\n",
       "  57452.0,\n",
       "  2957018.0,\n",
       "  None,\n",
       "  None,\n",
       "  None],\n",
       " ['2017-12-22',\n",
       "  51.05,\n",
       "  51.5,\n",
       "  50.92,\n",
       "  51.32,\n",
       "  None,\n",
       "  71165.0,\n",
       "  3641949.0,\n",
       "  None,\n",
       "  None,\n",
       "  None],\n",
       " ['2017-12-21',\n",
       "  51.16,\n",
       "  51.52,\n",
       "  50.9,\n",
       "  51.4,\n",
       "  None,\n",
       "  120649.0,\n",
       "  6179433.0,\n",
       "  None,\n",
       "  None,\n",
       "  None]]"
      ]
     },
     "execution_count": 102,
     "metadata": {},
     "output_type": "execute_result"
    }
   ],
   "source": [
    "json_data_2017['dataset_data']['data'][0:5]"
   ]
  },
  {
   "cell_type": "code",
   "execution_count": 103,
   "metadata": {},
   "outputs": [],
   "source": [
    "import numpy as np\n",
    "open_lst = []\n",
    "for datum in json_data_2017['dataset_data']['data']:\n",
    "    open_lst.append(datum[1])\n",
    "\n",
    "np_open = np.asarray(open_lst, dtype=np.float64)"
   ]
  },
  {
   "cell_type": "code",
   "execution_count": 104,
   "metadata": {},
   "outputs": [
    {
     "data": {
      "text/plain": [
       "array([51.76, 51.65, 51.45, 51.05, 51.16, 51.88, 52.73, 52.37, 52.7 ,\n",
       "       53.11, 52.64, 52.29, 52.28, 51.5 , 50.89, 50.8 , 51.21, 49.5 ,\n",
       "       49.52, 48.64, 49.64, 49.09, 49.13, 49.11, 48.8 , 48.4 , 47.25,\n",
       "       46.57, 47.03, 47.09, 47.98, 48.4 , 48.38, 47.3 , 47.65, 46.42,\n",
       "       46.16, 45.81, 45.  , 45.88, 46.29, 46.53, 45.48, 45.2 , 45.01,\n",
       "       45.16, 44.9 , 45.08, 45.72, 46.01, 45.8 , 45.61, 45.5 , 45.58,\n",
       "       45.97, 45.64, 46.2 , 46.19, 46.01, 45.36, 44.51, 43.58, 42.  ,\n",
       "       42.35, 42.3 , 42.3 , 41.48, 42.29, 42.54, 42.65, 42.5 , 42.29,\n",
       "       42.35, 42.49, 43.21, 42.81, 42.7 , 43.  , 42.66, 43.  , 42.38,\n",
       "       42.16, 42.  , 42.  , 41.71, 42.11, 42.64, 42.72, 42.82, 42.46,\n",
       "       42.42, 42.28, 41.88, 42.4 , 42.53, 42.12, 41.3 , 41.73, 43.5 ,\n",
       "       44.9 , 45.85, 45.13, 45.34, 45.25, 45.24, 44.94, 45.26, 45.16,\n",
       "       44.91, 44.7 , 45.31, 45.57, 45.74, 45.06, 45.5 , 45.6 , 45.07,\n",
       "       44.67, 44.29, 44.94, 44.64, 44.79, 45.5 , 44.67, 45.83, 45.29,\n",
       "       45.01, 45.73, 46.68, 47.23, 46.95, 47.29, 47.03, 47.46, 46.48,\n",
       "       46.9 , 45.66, 46.34, 46.52, 46.5 , 47.31, 46.77, 47.8 , 47.01,\n",
       "       47.12, 46.8 , 46.12, 45.22, 45.05, 45.61, 44.8 , 44.8 , 43.92,\n",
       "       43.67, 44.16, 43.74, 44.  , 45.06, 45.15, 45.09, 45.18, 43.4 ,\n",
       "       43.5 , 41.83, 43.  , 42.52, 41.86, 42.2 , 41.89,   nan, 42.17,\n",
       "       41.51, 41.88, 41.93, 42.01, 41.97, 42.5 , 41.94, 42.24,   nan,\n",
       "         nan, 42.06, 42.02, 41.62, 41.46, 40.9 , 40.96, 41.1 , 39.5 ,\n",
       "       40.15, 39.77, 40.02, 39.39, 38.95, 38.73, 38.94, 39.01, 38.25,\n",
       "       41.8 , 41.26, 41.47, 41.4 , 41.4 , 41.2 , 41.4 , 41.53, 41.61,\n",
       "       41.13, 41.5 , 41.25, 41.12, 41.38, 41.19, 40.38, 39.75, 39.77,\n",
       "       39.72, 39.6 , 38.85, 39.25, 38.8 , 38.8 , 38.5 , 38.81, 37.37,\n",
       "       36.65, 36.2 , 35.98, 35.56, 36.06, 36.02, 35.95, 34.75, 35.24,\n",
       "       35.38, 34.83, 35.07, 34.42, 34.  , 34.04, 34.54, 35.04, 35.04,\n",
       "       35.06, 34.85, 34.98, 35.38, 34.95, 34.8 , 35.29, 34.91, 35.02,\n",
       "       35.48, 35.9 , 34.99])"
      ]
     },
     "execution_count": 104,
     "metadata": {},
     "output_type": "execute_result"
    }
   ],
   "source": [
    "np_open"
   ]
  },
  {
   "cell_type": "code",
   "execution_count": 105,
   "metadata": {},
   "outputs": [
    {
     "data": {
      "text/plain": [
       "(34.0, 53.11)"
      ]
     },
     "execution_count": 105,
     "metadata": {},
     "output_type": "execute_result"
    }
   ],
   "source": [
    "np.nanmin(np_open), np.nanmax(np_open)"
   ]
  },
  {
   "cell_type": "markdown",
   "metadata": {},
   "source": [
    "# What was the largest change in any one day (based on High and Low price)?"
   ]
  },
  {
   "cell_type": "code",
   "execution_count": 106,
   "metadata": {},
   "outputs": [
    {
     "name": "stdout",
     "output_type": "stream",
     "text": [
      "Answer: The largest change in any one day (based on High and Low price) was 2.81\n"
     ]
    }
   ],
   "source": [
    "low_lst = []\n",
    "high_lst = []\n",
    "data_2017_dct = json_data_2017['dataset_data']['data']\n",
    "for datum in data_2017_dct:\n",
    "    low_lst.append(datum[3])\n",
    "    high_lst.append(datum[2])\n",
    "np_low = np.asarray(low_lst, dtype=np.float64)\n",
    "np_high = np.asarray(high_lst, dtype=np.float64)\n",
    "print(\"Answer: The largest change in any one day (based on High and Low price) was {}\".format(round(np.nanmax(np_high - np_low), 3)))"
   ]
  },
  {
   "cell_type": "markdown",
   "metadata": {},
   "source": [
    "# What was the largest change between any two days (based on Closing Price)?"
   ]
  },
  {
   "cell_type": "code",
   "execution_count": 108,
   "metadata": {},
   "outputs": [
    {
     "name": "stdout",
     "output_type": "stream",
     "text": [
      "Answer: Largest change between any two days was 19\n"
     ]
    }
   ],
   "source": [
    "close_lst = []\n",
    "for datum in data_2017_dct:\n",
    "    close_lst.append(datum[4])\n",
    "\n",
    "np_close = np.asarray(close_lst, dtype=np.float64)\n",
    "\n",
    "print(\"Answer: Largest change between any two days was {}\".format(round(np.nanmax(np_close)- np.nanmin(np_close)),3))"
   ]
  },
  {
   "cell_type": "markdown",
   "metadata": {},
   "source": [
    "# What was the average daily trading volume during this year?"
   ]
  },
  {
   "cell_type": "code",
   "execution_count": 109,
   "metadata": {},
   "outputs": [
    {
     "name": "stdout",
     "output_type": "stream",
     "text": [
      "Answer: The average daily trading volume during 2017 was 89124.337\n"
     ]
    }
   ],
   "source": [
    "trade_lst = []\n",
    "for datum in data_2017_dct:\n",
    "    trade_lst.append(datum[6])\n",
    "\n",
    "np_trade = np.asarray(trade_lst, dtype=np.float64)\n",
    "\n",
    "print(\"Answer: The average daily trading volume during 2017 was {}\".format(round(sum(np_trade)/len(np_trade), 3)))"
   ]
  },
  {
   "cell_type": "markdown",
   "metadata": {},
   "source": [
    "# (Optional) What was the median trading volume during this year. (Note: you may need to implement your own function for calculating the median.)"
   ]
  },
  {
   "cell_type": "code",
   "execution_count": 110,
   "metadata": {},
   "outputs": [
    {
     "name": "stdout",
     "output_type": "stream",
     "text": [
      "Answer: The median trading volume during 2017 was 76286.0\n"
     ]
    }
   ],
   "source": [
    "print(\"Answer: The median trading volume during 2017 was {}\".format(round(np.median(np_trade), 3)))"
   ]
  }
 ],
 "metadata": {
  "kernelspec": {
   "display_name": "Python 3",
   "language": "python",
   "name": "python3"
  },
  "language_info": {
   "codemirror_mode": {
    "name": "ipython",
    "version": 3
   },
   "file_extension": ".py",
   "mimetype": "text/x-python",
   "name": "python",
   "nbconvert_exporter": "python",
   "pygments_lexer": "ipython3",
   "version": "3.8.2"
  },
  "toc-autonumbering": true
 },
 "nbformat": 4,
 "nbformat_minor": 4
}
