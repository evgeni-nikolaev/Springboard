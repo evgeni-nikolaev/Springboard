{
 "cells": [
  {
   "cell_type": "markdown",
   "id": "4f9f411c-3011-4ee1-b883-80e2e2c85335",
   "metadata": {},
   "source": [
    "__Jupyter Lab Notebook (NB1) \\#1: Data Wrangling__\n",
    "\n",
    "__Objectives:__\n",
    "* collecting instrument's unstructured cortisol measurements from 25 heterogeneous data files\n",
    "* organizing the collected data\n",
    "* making sure it's well defined\n",
    "* preliminary data cleaning\n",
    "* elucidation of target values\n",
    "* engineering  potentially usesful features\n",
    "* identification of fundamental issues with the data if present"
   ]
  },
  {
   "cell_type": "markdown",
   "id": "0ca84faf-affb-4ff6-83fe-bd01a18beb91",
   "metadata": {},
   "source": [
    "__Contents__\n",
    "\n",
    "* [1. Imports](#1)\n",
    "* [2. Data ingestion](#2._Data_ingestion)\n",
    "    * [2.1 Reviewing data files](#2.1)\n",
    "    * [2.2 Normalization of csv-data](#2.2)\n",
    "    * [2.3 Loading csv-data](#2.3)\n",
    "    * [2.4 Loading xlsx-data](#2.4)\n",
    "    * [2.5 Loading xls-data](#2.5)\n",
    "    * [2.6 Graphical summary of all loaded records](#2.6)\n",
    "* [3. Extraction of features and values](#3)\n",
    "    * [3.1 csv-data](#3.1)\n",
    "        * [3.1.1 Inspection of csv-data by interactive widgets](#3.1.1)\n",
    "        * [3.1.2 A parser to process panel csv-data](#3.1.2)\n",
    "        * [3.1.3 Processing the panel csv-data](#3.1.3)\n",
    "        * [3.1.4 Cleaning the panel csv-data](#3.14)\n",
    "    * [3.2 xlsx-data](#3.2)\n",
    "        * [3.2.1 Inspection of xlsx-data by interactive widgets](#3.2.1)\n",
    "        * [3.2.2 Separating time-series xlsx-data from panel xlsx-data](#3.2.2)\n",
    "        * [3.2.3 Processing the panel xlsx-data by the panel csv-data parser](#3.2.3)\n",
    "        * [3.2.4 Cleaning the panel xlsx-data](#3.24)\n",
    "        * [3.2.5 A parser to process the time-series xlsx-data](#3.25)\n",
    "        * [3.2.6 Processing the time-series xlsx-data](#3.2.6)\n",
    "        * [3.2.7 Per-cell calibartion of population-wide time-series](#3.2.7)"
   ]
  },
  {
   "cell_type": "markdown",
   "id": "525e097e-97a9-4c6a-909b-b4987b4d9801",
   "metadata": {},
   "source": [
    "# Imports<a id='1'></a>"
   ]
  },
  {
   "cell_type": "code",
   "execution_count": 26,
   "id": "03945e81-6f5f-4719-875c-f1221ddfd6b7",
   "metadata": {},
   "outputs": [
    {
     "name": "stdout",
     "output_type": "stream",
     "text": [
      "The autoreload extension is already loaded. To reload it, use:\n",
      "  %reload_ext autoreload\n",
      "The watermark extension is already loaded. To reload it, use:\n",
      "  %reload_ext watermark\n",
      "Last updated: 2021-07-21T21:06:59.855405-04:00\n",
      "\n",
      "Python implementation: CPython\n",
      "Python version       : 3.9.5\n",
      "IPython version      : 7.25.0\n",
      "\n",
      "Compiler    : GCC 7.5.0\n",
      "OS          : Linux\n",
      "Release     : 5.11.0-25-generic\n",
      "Machine     : x86_64\n",
      "Processor   : x86_64\n",
      "CPU cores   : 20\n",
      "Architecture: 64bit\n",
      "\n"
     ]
    }
   ],
   "source": [
    "%load_ext autoreload\n",
    "%autoreload 2\n",
    "%load_ext watermark\n",
    "%watermark"
   ]
  },
  {
   "cell_type": "code",
   "execution_count": 27,
   "id": "6eec7b88-6c24-4994-8465-cc30b2dcfaaa",
   "metadata": {},
   "outputs": [
    {
     "data": {
      "text/html": [
       "        <script type=\"text/javascript\">\n",
       "        window.PlotlyConfig = {MathJaxConfig: 'local'};\n",
       "        if (window.MathJax) {MathJax.Hub.Config({SVG: {font: \"STIX-Web\"}});}\n",
       "        if (typeof require !== 'undefined') {\n",
       "        require.undef(\"plotly\");\n",
       "        requirejs.config({\n",
       "            paths: {\n",
       "                'plotly': ['https://cdn.plot.ly/plotly-2.2.0.min']\n",
       "            }\n",
       "        });\n",
       "        require(['plotly'], function(Plotly) {\n",
       "            window._Plotly = Plotly;\n",
       "        });\n",
       "        }\n",
       "        </script>\n",
       "        "
      ]
     },
     "metadata": {},
     "output_type": "display_data"
    },
    {
     "name": "stdout",
     "output_type": "stream",
     "text": [
      "Report on the versions of the modules used:\n",
      "plotly        : 5.1.0\n",
      "pandas_flavor : 0.2.0\n",
      "pandas        : 1.3.0\n",
      "seaborn       : 0.11.1\n",
      "csv           : 1.0\n",
      "ipywidgets    : 7.6.3\n",
      "janitor       : 0.20.14\n",
      "scipy         : 1.7.0\n",
      "more_itertools: 8.8.0\n",
      "numpy         : 1.21.0\n",
      "chart_studio  : 1.1.0\n",
      "re            : 2.2.1\n",
      "matplotlib    : 3.4.2\n",
      "sys           : 3.9.5 (default, Jun  4 2021, 12:28:51) \n",
      "[GCC 7.5.0]\n",
      "\n"
     ]
    }
   ],
   "source": [
    "import sys                             # Read system parameters\n",
    "import os                              # Interact with the operating system\n",
    "\n",
    "import math                            # Work with math functions\n",
    "import numpy as np                     # Work with multi-dimensional arrays and matrices\n",
    "import pandas as pd                    # Manipulate and analyze data\n",
    "import datetime\n",
    "import scipy as sp                     # Perform scientific computing and advanced mathematics\n",
    "\n",
    "import matplotlib.pyplot as plt        # Create 2D charts\n",
    "import seaborn as sns                  # Perform a nice data visualization\n",
    "\n",
    "import re                              # support for regular expressions (RE)\n",
    "import mailbox                         # mailbox - Read/write support for Maildir, mbox, MH, Babyl, and MMDF mailboxes\n",
    "import csv                             # csv parsing and writing\n",
    "\n",
    "import glob                            # Simplify reading data\n",
    "from pathlib import Path\n",
    "\n",
    "import ipywidgets as widgets \n",
    "from ipywidgets import interact, interact_manual\n",
    "\n",
    "import chart_studio.plotly as py\n",
    "import plotly.graph_objs as go\n",
    "from plotly.offline import iplot, init_notebook_mode\n",
    "init_notebook_mode(connected=True)\n",
    "\n",
    "import janitor\n",
    "import pandas_flavor as pf\n",
    "\n",
    "import more_itertools\n",
    "import cmd; print_column_list = cmd.Cmd() # print lists in a nice form\n",
    "\n",
    "#plt.style.use('fivethirtyeight')\n",
    "plt.style.use('ggplot')\n",
    "print('Report on the versions of the modules used:')\n",
    "%matplotlib inline\n",
    "%watermark --iversions"
   ]
  },
  {
   "cell_type": "code",
   "execution_count": 28,
   "id": "2a142a29-2005-43f7-8aca-2029cf668aff",
   "metadata": {},
   "outputs": [
    {
     "name": "stdout",
     "output_type": "stream",
     "text": [
      "Enabling notebook extension jupyter-js-widgets/extension...\n",
      "      - Validating: \u001b[32mOK\u001b[0m\n"
     ]
    }
   ],
   "source": [
    "!jupyter nbextension enable --py widgetsnbextension"
   ]
  },
  {
   "cell_type": "markdown",
   "id": "5eb75907-f5e0-484a-9d45-2ef9eacd5c11",
   "metadata": {},
   "source": [
    "# Data ingestion<a id='2'></a>\n",
    "\n",
    "We begin with basic understanding of all file types programmatically"
   ]
  },
  {
   "cell_type": "markdown",
   "id": "2d459062-4479-4d1f-85b2-fdab714e828b",
   "metadata": {},
   "source": [
    "## Reviewing data files<a id='2.1'></a>"
   ]
  },
  {
   "cell_type": "code",
   "execution_count": 29,
   "id": "d2234562-e1df-42c9-a01b-a4a6bb02b7e5",
   "metadata": {},
   "outputs": [
    {
     "name": "stdout",
     "output_type": "stream",
     "text": [
      "REPORT ON HETEROGENEOUS DATA FILES:\n",
      "Directory: /home/evgeni/Dropbox/AFRL_Projects/CORTISOL/nb1_data_wrangling/data\n",
      "Total files: 25\n",
      "csv: 9\n",
      "xlsx: 13\n",
      "xls: 3\n",
      "\n",
      "LIST ALL FILES:\n",
      "2018-07-18_E-coli_E2-Crimson_Cortisol_Conc_Curve_2018_0718_SD.csv\n",
      "2018-07-20_E-coli_RFP_Cortisol_Conc_Curve-Density-Culture_Conditions_2018_0720.csv\n",
      "2018-09-13_Working_2_GFP_Yeast_Cortisol_THF_Conc_Curve_2018_0913.csv\n",
      "2018-09-26_Ecoli_RFP_Cortisol_THF_Conc_Curve_2018_0926.csv\n",
      "2018-09-26_Working_Ecoli_RFP_Cortisol_THF_Conc_Curve_2018_0926.csv\n",
      "2018-10-16_Ecoli_RFP_Cortisol_THF_Conc_Curve_2018_1016.csv\n",
      "2018-10-16_Working_Ecoli_RFP_Cortisol_THF_Conc_Curve_2018_1016.csv\n",
      "2019-12-20_Ecoli_WT_pE2Crimson_Cortisol_Dose_Response_2019_1204.csv\n",
      "2019-12-20_Ecoli_sfGFP_integrate_C11_Dose_Response_2019.csv\n",
      "2019-08-19_1st_dataset_082819_pLysRsfGFP_IAI6_tolC_ApmR_2mM_Cort.xlsx\n",
      "2019-09-10_pLysRsfGFP_and_Integrate_tolcLysR_E2_crimson.xlsx\n",
      "2019-10-30_103019_Cort_vs_THF_in_pLysRsfGFP_EN1917_Apmr_in_tolC_mutant.xlsx\n",
      "2019-11-20_112019_EN1917_tolC_integrate_LysRsfGFP_2mM_Cortisol_against_negative_control.xlsx\n",
      "2019-12-27_C11_vs_C11_with_pLysE2Crimson_Enhancement.xlsx\n",
      "2019_10_30_Cort_vs_THF_in_pLysRsfGFP_EN1917_Apmr_in_tolC_mutant.xlsx\n",
      "2019_10_31_1mM_Cortisol_vs_T1_negative.xlsx\n",
      "2019_12_04_Ecoli_pE2Crimson_WT_Cortisol_Dose_Response_re-analysis.xlsx\n",
      "2019_12_19_Ecoli_sfGFP_Integrate_C11_Dose_Response_reanalysis_v1.xlsx\n",
      "2020-01-02_010220_2mM_cort_C11.xlsx\n",
      "2020-01-07_010720_beta_glucuronide_vs_cort_1mM_biotek.xlsx\n",
      "2020-01-07_010720_beta_vs_cort_2mM.xlsx\n",
      "2020-01-31_1mM_cort_vs_thf_e_coli_nissle_1917_sfGFP.xlsx\n",
      "2019-11-14_111419vl_pLysRe2cr_EN1917_Wild_Type_2mM_Cort_vs_pLysTDC_2mM_cortisol.xls\n",
      "2019_10_31_1mM_THF_vs_negative_T1.xls\n",
      "2020-01-07_010720_plysre2cr_e3.xls\n"
     ]
    }
   ],
   "source": [
    "PROJECT_ROOT_DIR = os.getcwd()\n",
    "DATA_PATH = os.path.join(PROJECT_ROOT_DIR, \"data\")\n",
    "\n",
    "path_csv = os.path.join(DATA_PATH, '*.csv')\n",
    "list_csv = sorted(glob.glob(path_csv))\n",
    "\n",
    "path_xlsx = os.path.join(DATA_PATH, '*.xlsx')\n",
    "list_xlsx = sorted(glob.glob(path_xlsx))\n",
    "\n",
    "path_xls = os.path.join(DATA_PATH, '*.xls')\n",
    "list_xls = sorted(glob.glob(path_xls))\n",
    "\n",
    "# Extract the current directory name\n",
    "dir_name = path_csv[:path_csv.rfind('/')]\n",
    "\n",
    "print('REPORT ON HETEROGENEOUS DATA FILES:')\n",
    "print('Directory: {}'.format(dir_name))\n",
    "print('Total files: {}'.format( len(list_csv) + len(list_xlsx) + len(list_xls)))\n",
    "print('{}: {}'.format('csv', len(list_csv)))\n",
    "print('{}: {}'.format('xlsx', len(list_xlsx)))\n",
    "print('{}: {}'.format('xls', len(list_xls)))\n",
    "\n",
    "print('\\nLIST ALL FILES:')\n",
    "fpath_lst = list_csv + list_xlsx + list_xls\n",
    "fname_lst = [fpath[(path_csv.rfind('/')+1):] for fpath in fpath_lst]\n",
    "print_column_list.columnize(fname_lst, displaywidth=80)"
   ]
  },
  {
   "cell_type": "markdown",
   "id": "ea5d760b-2fff-4bd6-9b34-ae534bf4653e",
   "metadata": {},
   "source": [
    "## Normalization of csv-data<a id='2.2'></a>\n",
    "\n",
    "Here, we normalize data from csv-files to have fixed columns compatible with the corresponding columns from xls- and xlsx-files, respectively."
   ]
  },
  {
   "cell_type": "code",
   "execution_count": 30,
   "id": "44e144a4-2f76-4fb8-9fdc-cd475badbf4e",
   "metadata": {
    "tags": []
   },
   "outputs": [],
   "source": [
    "def read_unstructured_csv(fpath):\n",
    "    \"\"\"\n",
    "    FUNCTION: read_unstructured_csv transforms unstractured data into a strucutred pandas' DataFrame\n",
    "    \"\"\"\n",
    "    ### Loop the data lines\n",
    "    with open(fpath, 'r') as f:\n",
    "\n",
    "        # get No of columns in each line\n",
    "        col_count = [ len(line.split(\",\")) for line in f.readlines() ]\n",
    "\n",
    "    ### Generate column names  (names will be 0, 1, 2, ..., maximum columns - 1)\n",
    "    column_names = [i for i in range(0, max(col_count))]\n",
    "\n",
    "    ### Read csv\n",
    "    df = pd.read_csv(fpath, header=None, delimiter=\",\", names=column_names)\n",
    "    \n",
    "    return df"
   ]
  },
  {
   "cell_type": "markdown",
   "id": "eb254e0b-c46e-4a69-a1a2-db8fe060539c",
   "metadata": {},
   "source": [
    "## Loading csv-data<a id='2.3'></a>"
   ]
  },
  {
   "cell_type": "code",
   "execution_count": 31,
   "id": "cf7ffe38-bd64-45da-854f-594ce2f80cae",
   "metadata": {
    "tags": []
   },
   "outputs": [
    {
     "name": "stdout",
     "output_type": "stream",
     "text": [
      "REPORT ON RECORDS LOADED FROM *.csv FILES:\n",
      "Loaded 228 records from 2018-07-18_E-coli_E2-Crimson_Cortisol_Conc_Curve_2018_0718_SD.csv\n",
      "Loaded 720 records from 2018-07-20_E-coli_RFP_Cortisol_Conc_Curve-Density-Culture_Conditions_2018_0720.csv\n",
      "Loaded 390 records from 2018-09-13_Working_2_GFP_Yeast_Cortisol_THF_Conc_Curve_2018_0913.csv\n",
      "Loaded 443 records from 2018-09-26_Ecoli_RFP_Cortisol_THF_Conc_Curve_2018_0926.csv\n",
      "Loaded 443 records from 2018-09-26_Working_Ecoli_RFP_Cortisol_THF_Conc_Curve_2018_0926.csv\n",
      "Loaded 480 records from 2018-10-16_Ecoli_RFP_Cortisol_THF_Conc_Curve_2018_1016.csv\n",
      "Loaded 519 records from 2018-10-16_Working_Ecoli_RFP_Cortisol_THF_Conc_Curve_2018_1016.csv\n",
      "Loaded 584 records from 2019-12-20_Ecoli_WT_pE2Crimson_Cortisol_Dose_Response_2019_1204.csv\n",
      "Loaded 749 records from 2019-12-20_Ecoli_sfGFP_integrate_C11_Dose_Response_2019.csv\n",
      "Loaded total files: 9\n",
      "Loaded total records from all csv files: 4556\n"
     ]
    }
   ],
   "source": [
    "data_csv_dct = {}\n",
    "csv_records = 0\n",
    "print('REPORT ON RECORDS LOADED FROM {} FILES:'.format('*.csv'))\n",
    "for f in list_csv:\n",
    "    fname = f[f.rfind('/')+1 :]\n",
    "    data_csv_dct[fname] = read_unstructured_csv(f)\n",
    "    print('Loaded {} records from {}'.format(len(data_csv_dct[fname]), fname))\n",
    "    csv_records += len(data_csv_dct[fname])\n",
    "\n",
    "print('Loaded total files: {}'.format(len(list_csv)))\n",
    "print('Loaded total records from all {} files: {}'.format('csv', csv_records))\n",
    "\n",
    "fname_csv = list(data_csv_dct.keys())"
   ]
  },
  {
   "cell_type": "markdown",
   "id": "c43b0a89-b7c0-40ad-baa1-30798e33b443",
   "metadata": {},
   "source": [
    "## Loading xlsx-data<a id='2.4'></a>"
   ]
  },
  {
   "cell_type": "code",
   "execution_count": 32,
   "id": "a1e6ce13-67f4-4688-83b4-ebc953fb1895",
   "metadata": {},
   "outputs": [
    {
     "name": "stdout",
     "output_type": "stream",
     "text": [
      "REPORT ON RECORDS LOADED FROM xlsx-FILES:\n",
      "Loaded 278 records from 2019-08-19_1st_dataset_082819_pLysRsfGFP_IAI6_tolC_ApmR_2mM_Cort.xlsx\n",
      "Loaded 437 records from 2019-09-10_pLysRsfGFP_and_Integrate_tolcLysR_E2_crimson.xlsx\n",
      "Loaded 260 records from 2019-10-30_103019_Cort_vs_THF_in_pLysRsfGFP_EN1917_Apmr_in_tolC_mutant.xlsx\n",
      "Loaded 260 records from 2019-11-20_112019_EN1917_tolC_integrate_LysRsfGFP_2mM_Cortisol_against_negative_control.xlsx\n",
      "Loaded 346 records from 2019-12-27_C11_vs_C11_with_pLysE2Crimson_Enhancement.xlsx\n",
      "Loaded 261 records from 2019_10_30_Cort_vs_THF_in_pLysRsfGFP_EN1917_Apmr_in_tolC_mutant.xlsx\n",
      "Loaded 279 records from 2019_10_31_1mM_Cortisol_vs_T1_negative.xlsx\n",
      "Loaded 623 records from 2019_12_04_Ecoli_pE2Crimson_WT_Cortisol_Dose_Response_re-analysis.xlsx\n",
      "Loaded 849 records from 2019_12_19_Ecoli_sfGFP_Integrate_C11_Dose_Response_reanalysis_v1.xlsx\n",
      "Loaded 260 records from 2020-01-02_010220_2mM_cort_C11.xlsx\n",
      "Loaded 260 records from 2020-01-07_010720_beta_glucuronide_vs_cort_1mM_biotek.xlsx\n",
      "Loaded 262 records from 2020-01-07_010720_beta_vs_cort_2mM.xlsx\n",
      "Loaded 359 records from 2020-01-31_1mM_cort_vs_thf_e_coli_nissle_1917_sfGFP.xlsx\n",
      "Loaded total files: 13\n",
      "Loaded total records from all xlsx-files: 4734\n"
     ]
    }
   ],
   "source": [
    "data_xlsx_dct = {}\n",
    "xlsx_records = 0\n",
    "print('REPORT ON RECORDS LOADED FROM {}-FILES:'.format('xlsx'))\n",
    "for f in list_xlsx:\n",
    "    fname = f[f.rfind('/')+1 :]\n",
    "    data_xlsx_dct[fname] = pd.read_excel( f,  header=None )\n",
    "    print('Loaded {} records from {}'.format(len(data_xlsx_dct[fname]), fname))\n",
    "    xlsx_records += len(data_xlsx_dct[fname])\n",
    "\n",
    "print('Loaded total files: {}'.format(len(list_xlsx)))\n",
    "print('Loaded total records from all {}-files: {}'.format('xlsx', xlsx_records))\n",
    "\n",
    "fname_xlsx = list(data_xlsx_dct.keys())"
   ]
  },
  {
   "cell_type": "code",
   "execution_count": 33,
   "id": "4d59dd1f-113a-4384-b974-9ce7a8e7b287",
   "metadata": {
    "tags": []
   },
   "outputs": [
    {
     "data": {
      "text/html": [
       "<div>\n",
       "<style scoped>\n",
       "    .dataframe tbody tr th:only-of-type {\n",
       "        vertical-align: middle;\n",
       "    }\n",
       "\n",
       "    .dataframe tbody tr th {\n",
       "        vertical-align: top;\n",
       "    }\n",
       "\n",
       "    .dataframe thead th {\n",
       "        text-align: right;\n",
       "    }\n",
       "</style>\n",
       "<table border=\"1\" class=\"dataframe\">\n",
       "  <thead>\n",
       "    <tr style=\"text-align: right;\">\n",
       "      <th></th>\n",
       "      <th>0</th>\n",
       "      <th>1</th>\n",
       "      <th>2</th>\n",
       "      <th>3</th>\n",
       "      <th>4</th>\n",
       "      <th>5</th>\n",
       "      <th>6</th>\n",
       "      <th>7</th>\n",
       "      <th>8</th>\n",
       "      <th>9</th>\n",
       "      <th>...</th>\n",
       "      <th>89</th>\n",
       "      <th>90</th>\n",
       "      <th>91</th>\n",
       "      <th>92</th>\n",
       "      <th>93</th>\n",
       "      <th>94</th>\n",
       "      <th>95</th>\n",
       "      <th>96</th>\n",
       "      <th>97</th>\n",
       "      <th>98</th>\n",
       "    </tr>\n",
       "  </thead>\n",
       "  <tbody>\n",
       "    <tr>\n",
       "      <th>0</th>\n",
       "      <td>Experiment</td>\n",
       "      <td>Cort vs THF Neo2</td>\n",
       "      <td>NaN</td>\n",
       "      <td>NaN</td>\n",
       "      <td>NaN</td>\n",
       "      <td>NaN</td>\n",
       "      <td>NaN</td>\n",
       "      <td>NaN</td>\n",
       "      <td>NaN</td>\n",
       "      <td>NaN</td>\n",
       "      <td>...</td>\n",
       "      <td>NaN</td>\n",
       "      <td>NaN</td>\n",
       "      <td>NaN</td>\n",
       "      <td>NaN</td>\n",
       "      <td>NaN</td>\n",
       "      <td>NaN</td>\n",
       "      <td>NaN</td>\n",
       "      <td>NaN</td>\n",
       "      <td>NaN</td>\n",
       "      <td>NaN</td>\n",
       "    </tr>\n",
       "    <tr>\n",
       "      <th>1</th>\n",
       "      <td>Cell</td>\n",
       "      <td>EcN1917</td>\n",
       "      <td>NaN</td>\n",
       "      <td>NaN</td>\n",
       "      <td>NaN</td>\n",
       "      <td>NaN</td>\n",
       "      <td>NaN</td>\n",
       "      <td>NaN</td>\n",
       "      <td>NaN</td>\n",
       "      <td>NaN</td>\n",
       "      <td>...</td>\n",
       "      <td>NaN</td>\n",
       "      <td>NaN</td>\n",
       "      <td>NaN</td>\n",
       "      <td>NaN</td>\n",
       "      <td>NaN</td>\n",
       "      <td>NaN</td>\n",
       "      <td>NaN</td>\n",
       "      <td>NaN</td>\n",
       "      <td>NaN</td>\n",
       "      <td>NaN</td>\n",
       "    </tr>\n",
       "    <tr>\n",
       "      <th>2</th>\n",
       "      <td>Genotype</td>\n",
       "      <td>MT</td>\n",
       "      <td>NaN</td>\n",
       "      <td>NaN</td>\n",
       "      <td>NaN</td>\n",
       "      <td>NaN</td>\n",
       "      <td>NaN</td>\n",
       "      <td>NaN</td>\n",
       "      <td>NaN</td>\n",
       "      <td>NaN</td>\n",
       "      <td>...</td>\n",
       "      <td>NaN</td>\n",
       "      <td>NaN</td>\n",
       "      <td>NaN</td>\n",
       "      <td>NaN</td>\n",
       "      <td>NaN</td>\n",
       "      <td>NaN</td>\n",
       "      <td>NaN</td>\n",
       "      <td>NaN</td>\n",
       "      <td>NaN</td>\n",
       "      <td>NaN</td>\n",
       "    </tr>\n",
       "    <tr>\n",
       "      <th>3</th>\n",
       "      <td>Cortisol-THF-Neo2</td>\n",
       "      <td>1mM</td>\n",
       "      <td>NaN</td>\n",
       "      <td>NaN</td>\n",
       "      <td>NaN</td>\n",
       "      <td>NaN</td>\n",
       "      <td>NaN</td>\n",
       "      <td>NaN</td>\n",
       "      <td>NaN</td>\n",
       "      <td>NaN</td>\n",
       "      <td>...</td>\n",
       "      <td>NaN</td>\n",
       "      <td>NaN</td>\n",
       "      <td>NaN</td>\n",
       "      <td>NaN</td>\n",
       "      <td>NaN</td>\n",
       "      <td>NaN</td>\n",
       "      <td>NaN</td>\n",
       "      <td>NaN</td>\n",
       "      <td>NaN</td>\n",
       "      <td>NaN</td>\n",
       "    </tr>\n",
       "    <tr>\n",
       "      <th>4</th>\n",
       "      <td>Reporter</td>\n",
       "      <td>GFP_E2Crimson</td>\n",
       "      <td>NaN</td>\n",
       "      <td>NaN</td>\n",
       "      <td>NaN</td>\n",
       "      <td>NaN</td>\n",
       "      <td>NaN</td>\n",
       "      <td>NaN</td>\n",
       "      <td>NaN</td>\n",
       "      <td>NaN</td>\n",
       "      <td>...</td>\n",
       "      <td>NaN</td>\n",
       "      <td>NaN</td>\n",
       "      <td>NaN</td>\n",
       "      <td>NaN</td>\n",
       "      <td>NaN</td>\n",
       "      <td>NaN</td>\n",
       "      <td>NaN</td>\n",
       "      <td>NaN</td>\n",
       "      <td>NaN</td>\n",
       "      <td>NaN</td>\n",
       "    </tr>\n",
       "    <tr>\n",
       "      <th>5</th>\n",
       "      <td>Plasmid</td>\n",
       "      <td>pLysR</td>\n",
       "      <td>NaN</td>\n",
       "      <td>NaN</td>\n",
       "      <td>NaN</td>\n",
       "      <td>NaN</td>\n",
       "      <td>NaN</td>\n",
       "      <td>NaN</td>\n",
       "      <td>NaN</td>\n",
       "      <td>NaN</td>\n",
       "      <td>...</td>\n",
       "      <td>NaN</td>\n",
       "      <td>NaN</td>\n",
       "      <td>NaN</td>\n",
       "      <td>NaN</td>\n",
       "      <td>NaN</td>\n",
       "      <td>NaN</td>\n",
       "      <td>NaN</td>\n",
       "      <td>NaN</td>\n",
       "      <td>NaN</td>\n",
       "      <td>NaN</td>\n",
       "    </tr>\n",
       "    <tr>\n",
       "      <th>6</th>\n",
       "      <td>Software Version</td>\n",
       "      <td>3.08.01</td>\n",
       "      <td>NaN</td>\n",
       "      <td>NaN</td>\n",
       "      <td>NaN</td>\n",
       "      <td>NaN</td>\n",
       "      <td>NaN</td>\n",
       "      <td>NaN</td>\n",
       "      <td>NaN</td>\n",
       "      <td>NaN</td>\n",
       "      <td>...</td>\n",
       "      <td>NaN</td>\n",
       "      <td>NaN</td>\n",
       "      <td>NaN</td>\n",
       "      <td>NaN</td>\n",
       "      <td>NaN</td>\n",
       "      <td>NaN</td>\n",
       "      <td>NaN</td>\n",
       "      <td>NaN</td>\n",
       "      <td>NaN</td>\n",
       "      <td>NaN</td>\n",
       "    </tr>\n",
       "    <tr>\n",
       "      <th>7</th>\n",
       "      <td>NaN</td>\n",
       "      <td>NaN</td>\n",
       "      <td>NaN</td>\n",
       "      <td>NaN</td>\n",
       "      <td>NaN</td>\n",
       "      <td>NaN</td>\n",
       "      <td>NaN</td>\n",
       "      <td>NaN</td>\n",
       "      <td>NaN</td>\n",
       "      <td>NaN</td>\n",
       "      <td>...</td>\n",
       "      <td>NaN</td>\n",
       "      <td>NaN</td>\n",
       "      <td>NaN</td>\n",
       "      <td>NaN</td>\n",
       "      <td>NaN</td>\n",
       "      <td>NaN</td>\n",
       "      <td>NaN</td>\n",
       "      <td>NaN</td>\n",
       "      <td>NaN</td>\n",
       "      <td>NaN</td>\n",
       "    </tr>\n",
       "    <tr>\n",
       "      <th>8</th>\n",
       "      <td>Experiment File Path:</td>\n",
       "      <td>C:\\Users\\VLitteral\\Desktop\\Biotek\\Biotek 2019\\...</td>\n",
       "      <td>NaN</td>\n",
       "      <td>NaN</td>\n",
       "      <td>NaN</td>\n",
       "      <td>NaN</td>\n",
       "      <td>NaN</td>\n",
       "      <td>NaN</td>\n",
       "      <td>NaN</td>\n",
       "      <td>NaN</td>\n",
       "      <td>...</td>\n",
       "      <td>NaN</td>\n",
       "      <td>NaN</td>\n",
       "      <td>NaN</td>\n",
       "      <td>NaN</td>\n",
       "      <td>NaN</td>\n",
       "      <td>NaN</td>\n",
       "      <td>NaN</td>\n",
       "      <td>NaN</td>\n",
       "      <td>NaN</td>\n",
       "      <td>NaN</td>\n",
       "    </tr>\n",
       "    <tr>\n",
       "      <th>9</th>\n",
       "      <td>Protocol File Path:</td>\n",
       "      <td>C:\\Users\\Public\\Documents\\Protocols\\sfGFP and ...</td>\n",
       "      <td>NaN</td>\n",
       "      <td>NaN</td>\n",
       "      <td>NaN</td>\n",
       "      <td>NaN</td>\n",
       "      <td>NaN</td>\n",
       "      <td>NaN</td>\n",
       "      <td>NaN</td>\n",
       "      <td>NaN</td>\n",
       "      <td>...</td>\n",
       "      <td>NaN</td>\n",
       "      <td>NaN</td>\n",
       "      <td>NaN</td>\n",
       "      <td>NaN</td>\n",
       "      <td>NaN</td>\n",
       "      <td>NaN</td>\n",
       "      <td>NaN</td>\n",
       "      <td>NaN</td>\n",
       "      <td>NaN</td>\n",
       "      <td>NaN</td>\n",
       "    </tr>\n",
       "    <tr>\n",
       "      <th>10</th>\n",
       "      <td>Plate Number</td>\n",
       "      <td>Plate 1</td>\n",
       "      <td>NaN</td>\n",
       "      <td>NaN</td>\n",
       "      <td>NaN</td>\n",
       "      <td>NaN</td>\n",
       "      <td>NaN</td>\n",
       "      <td>NaN</td>\n",
       "      <td>NaN</td>\n",
       "      <td>NaN</td>\n",
       "      <td>...</td>\n",
       "      <td>NaN</td>\n",
       "      <td>NaN</td>\n",
       "      <td>NaN</td>\n",
       "      <td>NaN</td>\n",
       "      <td>NaN</td>\n",
       "      <td>NaN</td>\n",
       "      <td>NaN</td>\n",
       "      <td>NaN</td>\n",
       "      <td>NaN</td>\n",
       "      <td>NaN</td>\n",
       "    </tr>\n",
       "    <tr>\n",
       "      <th>11</th>\n",
       "      <td>Date</td>\n",
       "      <td>2020-01-31 00:00:00</td>\n",
       "      <td>NaN</td>\n",
       "      <td>NaN</td>\n",
       "      <td>NaN</td>\n",
       "      <td>NaN</td>\n",
       "      <td>NaN</td>\n",
       "      <td>NaN</td>\n",
       "      <td>NaN</td>\n",
       "      <td>NaN</td>\n",
       "      <td>...</td>\n",
       "      <td>NaN</td>\n",
       "      <td>NaN</td>\n",
       "      <td>NaN</td>\n",
       "      <td>NaN</td>\n",
       "      <td>NaN</td>\n",
       "      <td>NaN</td>\n",
       "      <td>NaN</td>\n",
       "      <td>NaN</td>\n",
       "      <td>NaN</td>\n",
       "      <td>NaN</td>\n",
       "    </tr>\n",
       "    <tr>\n",
       "      <th>12</th>\n",
       "      <td>Time</td>\n",
       "      <td>21:29:42</td>\n",
       "      <td>NaN</td>\n",
       "      <td>NaN</td>\n",
       "      <td>NaN</td>\n",
       "      <td>NaN</td>\n",
       "      <td>NaN</td>\n",
       "      <td>NaN</td>\n",
       "      <td>NaN</td>\n",
       "      <td>NaN</td>\n",
       "      <td>...</td>\n",
       "      <td>NaN</td>\n",
       "      <td>NaN</td>\n",
       "      <td>NaN</td>\n",
       "      <td>NaN</td>\n",
       "      <td>NaN</td>\n",
       "      <td>NaN</td>\n",
       "      <td>NaN</td>\n",
       "      <td>NaN</td>\n",
       "      <td>NaN</td>\n",
       "      <td>NaN</td>\n",
       "    </tr>\n",
       "    <tr>\n",
       "      <th>13</th>\n",
       "      <td>Reader Type:</td>\n",
       "      <td>Synergy Neo2</td>\n",
       "      <td>NaN</td>\n",
       "      <td>NaN</td>\n",
       "      <td>NaN</td>\n",
       "      <td>NaN</td>\n",
       "      <td>NaN</td>\n",
       "      <td>NaN</td>\n",
       "      <td>NaN</td>\n",
       "      <td>NaN</td>\n",
       "      <td>...</td>\n",
       "      <td>NaN</td>\n",
       "      <td>NaN</td>\n",
       "      <td>NaN</td>\n",
       "      <td>NaN</td>\n",
       "      <td>NaN</td>\n",
       "      <td>NaN</td>\n",
       "      <td>NaN</td>\n",
       "      <td>NaN</td>\n",
       "      <td>NaN</td>\n",
       "      <td>NaN</td>\n",
       "    </tr>\n",
       "    <tr>\n",
       "      <th>14</th>\n",
       "      <td>Reader Serial Number:</td>\n",
       "      <td>190812F</td>\n",
       "      <td>NaN</td>\n",
       "      <td>NaN</td>\n",
       "      <td>NaN</td>\n",
       "      <td>NaN</td>\n",
       "      <td>NaN</td>\n",
       "      <td>NaN</td>\n",
       "      <td>NaN</td>\n",
       "      <td>NaN</td>\n",
       "      <td>...</td>\n",
       "      <td>NaN</td>\n",
       "      <td>NaN</td>\n",
       "      <td>NaN</td>\n",
       "      <td>NaN</td>\n",
       "      <td>NaN</td>\n",
       "      <td>NaN</td>\n",
       "      <td>NaN</td>\n",
       "      <td>NaN</td>\n",
       "      <td>NaN</td>\n",
       "      <td>NaN</td>\n",
       "    </tr>\n",
       "    <tr>\n",
       "      <th>15</th>\n",
       "      <td>Reading Type</td>\n",
       "      <td>Reader</td>\n",
       "      <td>NaN</td>\n",
       "      <td>NaN</td>\n",
       "      <td>NaN</td>\n",
       "      <td>NaN</td>\n",
       "      <td>NaN</td>\n",
       "      <td>NaN</td>\n",
       "      <td>NaN</td>\n",
       "      <td>NaN</td>\n",
       "      <td>...</td>\n",
       "      <td>NaN</td>\n",
       "      <td>NaN</td>\n",
       "      <td>NaN</td>\n",
       "      <td>NaN</td>\n",
       "      <td>NaN</td>\n",
       "      <td>NaN</td>\n",
       "      <td>NaN</td>\n",
       "      <td>NaN</td>\n",
       "      <td>NaN</td>\n",
       "      <td>NaN</td>\n",
       "    </tr>\n",
       "    <tr>\n",
       "      <th>16</th>\n",
       "      <td>NaN</td>\n",
       "      <td>NaN</td>\n",
       "      <td>NaN</td>\n",
       "      <td>NaN</td>\n",
       "      <td>NaN</td>\n",
       "      <td>NaN</td>\n",
       "      <td>NaN</td>\n",
       "      <td>NaN</td>\n",
       "      <td>NaN</td>\n",
       "      <td>NaN</td>\n",
       "      <td>...</td>\n",
       "      <td>NaN</td>\n",
       "      <td>NaN</td>\n",
       "      <td>NaN</td>\n",
       "      <td>NaN</td>\n",
       "      <td>NaN</td>\n",
       "      <td>NaN</td>\n",
       "      <td>NaN</td>\n",
       "      <td>NaN</td>\n",
       "      <td>NaN</td>\n",
       "      <td>NaN</td>\n",
       "    </tr>\n",
       "    <tr>\n",
       "      <th>17</th>\n",
       "      <td>Procedure Details</td>\n",
       "      <td>NaN</td>\n",
       "      <td>NaN</td>\n",
       "      <td>NaN</td>\n",
       "      <td>NaN</td>\n",
       "      <td>NaN</td>\n",
       "      <td>NaN</td>\n",
       "      <td>NaN</td>\n",
       "      <td>NaN</td>\n",
       "      <td>NaN</td>\n",
       "      <td>...</td>\n",
       "      <td>NaN</td>\n",
       "      <td>NaN</td>\n",
       "      <td>NaN</td>\n",
       "      <td>NaN</td>\n",
       "      <td>NaN</td>\n",
       "      <td>NaN</td>\n",
       "      <td>NaN</td>\n",
       "      <td>NaN</td>\n",
       "      <td>NaN</td>\n",
       "      <td>NaN</td>\n",
       "    </tr>\n",
       "    <tr>\n",
       "      <th>18</th>\n",
       "      <td>Plate Type</td>\n",
       "      <td>Costar 96 clear bottom black side (Use plate lid)</td>\n",
       "      <td>NaN</td>\n",
       "      <td>NaN</td>\n",
       "      <td>NaN</td>\n",
       "      <td>NaN</td>\n",
       "      <td>NaN</td>\n",
       "      <td>NaN</td>\n",
       "      <td>NaN</td>\n",
       "      <td>NaN</td>\n",
       "      <td>...</td>\n",
       "      <td>NaN</td>\n",
       "      <td>NaN</td>\n",
       "      <td>NaN</td>\n",
       "      <td>NaN</td>\n",
       "      <td>NaN</td>\n",
       "      <td>NaN</td>\n",
       "      <td>NaN</td>\n",
       "      <td>NaN</td>\n",
       "      <td>NaN</td>\n",
       "      <td>NaN</td>\n",
       "    </tr>\n",
       "    <tr>\n",
       "      <th>19</th>\n",
       "      <td>Eject plate on completion</td>\n",
       "      <td>NaN</td>\n",
       "      <td>NaN</td>\n",
       "      <td>NaN</td>\n",
       "      <td>NaN</td>\n",
       "      <td>NaN</td>\n",
       "      <td>NaN</td>\n",
       "      <td>NaN</td>\n",
       "      <td>NaN</td>\n",
       "      <td>NaN</td>\n",
       "      <td>...</td>\n",
       "      <td>NaN</td>\n",
       "      <td>NaN</td>\n",
       "      <td>NaN</td>\n",
       "      <td>NaN</td>\n",
       "      <td>NaN</td>\n",
       "      <td>NaN</td>\n",
       "      <td>NaN</td>\n",
       "      <td>NaN</td>\n",
       "      <td>NaN</td>\n",
       "      <td>NaN</td>\n",
       "    </tr>\n",
       "  </tbody>\n",
       "</table>\n",
       "<p>20 rows × 99 columns</p>\n",
       "</div>"
      ],
      "text/plain": [
       "                           0   \\\n",
       "0                  Experiment   \n",
       "1                        Cell   \n",
       "2                    Genotype   \n",
       "3           Cortisol-THF-Neo2   \n",
       "4                    Reporter   \n",
       "5                     Plasmid   \n",
       "6            Software Version   \n",
       "7                         NaN   \n",
       "8       Experiment File Path:   \n",
       "9         Protocol File Path:   \n",
       "10               Plate Number   \n",
       "11                       Date   \n",
       "12                       Time   \n",
       "13               Reader Type:   \n",
       "14      Reader Serial Number:   \n",
       "15               Reading Type   \n",
       "16                        NaN   \n",
       "17          Procedure Details   \n",
       "18                 Plate Type   \n",
       "19  Eject plate on completion   \n",
       "\n",
       "                                                   1    2    3    4    5   \\\n",
       "0                                    Cort vs THF Neo2  NaN  NaN  NaN  NaN   \n",
       "1                                             EcN1917  NaN  NaN  NaN  NaN   \n",
       "2                                                  MT  NaN  NaN  NaN  NaN   \n",
       "3                                                 1mM  NaN  NaN  NaN  NaN   \n",
       "4                                       GFP_E2Crimson  NaN  NaN  NaN  NaN   \n",
       "5                                               pLysR  NaN  NaN  NaN  NaN   \n",
       "6                                             3.08.01  NaN  NaN  NaN  NaN   \n",
       "7                                                 NaN  NaN  NaN  NaN  NaN   \n",
       "8   C:\\Users\\VLitteral\\Desktop\\Biotek\\Biotek 2019\\...  NaN  NaN  NaN  NaN   \n",
       "9   C:\\Users\\Public\\Documents\\Protocols\\sfGFP and ...  NaN  NaN  NaN  NaN   \n",
       "10                                            Plate 1  NaN  NaN  NaN  NaN   \n",
       "11                                2020-01-31 00:00:00  NaN  NaN  NaN  NaN   \n",
       "12                                           21:29:42  NaN  NaN  NaN  NaN   \n",
       "13                                       Synergy Neo2  NaN  NaN  NaN  NaN   \n",
       "14                                            190812F  NaN  NaN  NaN  NaN   \n",
       "15                                             Reader  NaN  NaN  NaN  NaN   \n",
       "16                                                NaN  NaN  NaN  NaN  NaN   \n",
       "17                                                NaN  NaN  NaN  NaN  NaN   \n",
       "18  Costar 96 clear bottom black side (Use plate lid)  NaN  NaN  NaN  NaN   \n",
       "19                                                NaN  NaN  NaN  NaN  NaN   \n",
       "\n",
       "     6    7    8    9   ...   89   90   91   92   93   94   95   96   97   98  \n",
       "0   NaN  NaN  NaN  NaN  ...  NaN  NaN  NaN  NaN  NaN  NaN  NaN  NaN  NaN  NaN  \n",
       "1   NaN  NaN  NaN  NaN  ...  NaN  NaN  NaN  NaN  NaN  NaN  NaN  NaN  NaN  NaN  \n",
       "2   NaN  NaN  NaN  NaN  ...  NaN  NaN  NaN  NaN  NaN  NaN  NaN  NaN  NaN  NaN  \n",
       "3   NaN  NaN  NaN  NaN  ...  NaN  NaN  NaN  NaN  NaN  NaN  NaN  NaN  NaN  NaN  \n",
       "4   NaN  NaN  NaN  NaN  ...  NaN  NaN  NaN  NaN  NaN  NaN  NaN  NaN  NaN  NaN  \n",
       "5   NaN  NaN  NaN  NaN  ...  NaN  NaN  NaN  NaN  NaN  NaN  NaN  NaN  NaN  NaN  \n",
       "6   NaN  NaN  NaN  NaN  ...  NaN  NaN  NaN  NaN  NaN  NaN  NaN  NaN  NaN  NaN  \n",
       "7   NaN  NaN  NaN  NaN  ...  NaN  NaN  NaN  NaN  NaN  NaN  NaN  NaN  NaN  NaN  \n",
       "8   NaN  NaN  NaN  NaN  ...  NaN  NaN  NaN  NaN  NaN  NaN  NaN  NaN  NaN  NaN  \n",
       "9   NaN  NaN  NaN  NaN  ...  NaN  NaN  NaN  NaN  NaN  NaN  NaN  NaN  NaN  NaN  \n",
       "10  NaN  NaN  NaN  NaN  ...  NaN  NaN  NaN  NaN  NaN  NaN  NaN  NaN  NaN  NaN  \n",
       "11  NaN  NaN  NaN  NaN  ...  NaN  NaN  NaN  NaN  NaN  NaN  NaN  NaN  NaN  NaN  \n",
       "12  NaN  NaN  NaN  NaN  ...  NaN  NaN  NaN  NaN  NaN  NaN  NaN  NaN  NaN  NaN  \n",
       "13  NaN  NaN  NaN  NaN  ...  NaN  NaN  NaN  NaN  NaN  NaN  NaN  NaN  NaN  NaN  \n",
       "14  NaN  NaN  NaN  NaN  ...  NaN  NaN  NaN  NaN  NaN  NaN  NaN  NaN  NaN  NaN  \n",
       "15  NaN  NaN  NaN  NaN  ...  NaN  NaN  NaN  NaN  NaN  NaN  NaN  NaN  NaN  NaN  \n",
       "16  NaN  NaN  NaN  NaN  ...  NaN  NaN  NaN  NaN  NaN  NaN  NaN  NaN  NaN  NaN  \n",
       "17  NaN  NaN  NaN  NaN  ...  NaN  NaN  NaN  NaN  NaN  NaN  NaN  NaN  NaN  NaN  \n",
       "18  NaN  NaN  NaN  NaN  ...  NaN  NaN  NaN  NaN  NaN  NaN  NaN  NaN  NaN  NaN  \n",
       "19  NaN  NaN  NaN  NaN  ...  NaN  NaN  NaN  NaN  NaN  NaN  NaN  NaN  NaN  NaN  \n",
       "\n",
       "[20 rows x 99 columns]"
      ]
     },
     "execution_count": 33,
     "metadata": {},
     "output_type": "execute_result"
    }
   ],
   "source": [
    "data_xlsx_dct['2020-01-31_1mM_cort_vs_thf_e_coli_nissle_1917_sfGFP.xlsx'].head(20)"
   ]
  },
  {
   "cell_type": "markdown",
   "id": "8f412739-e424-4785-8284-c17d4aff4f6c",
   "metadata": {},
   "source": [
    "## Loading xls-data<a id='2.5'></a>"
   ]
  },
  {
   "cell_type": "code",
   "execution_count": 34,
   "id": "014b001d-0e87-4c37-b13b-acc6d9ab7fcf",
   "metadata": {},
   "outputs": [
    {
     "name": "stdout",
     "output_type": "stream",
     "text": [
      "REPORT ON RECORDS LOADED FROM xls-FILES:\n",
      "Loaded 289 records from 2019-11-14_111419vl_pLysRe2cr_EN1917_Wild_Type_2mM_Cort_vs_pLysTDC_2mM_cortisol.xls\n",
      "Loaded 260 records from 2019_10_31_1mM_THF_vs_negative_T1.xls\n",
      "Loaded 288 records from 2020-01-07_010720_plysre2cr_e3.xls\n",
      "Loaded total files: 3\n",
      "Loaded total records from all xls-files: 837\n"
     ]
    }
   ],
   "source": [
    "data_xls_dct = {}\n",
    "xls_records = 0\n",
    "print('REPORT ON RECORDS LOADED FROM {}-FILES:'.format('xls'))\n",
    "for f in list_xls:\n",
    "    fname = f[f.rfind('/')+1 :]\n",
    "    data_xls_dct[fname] = pd.read_excel( f, header=None )\n",
    "    print('Loaded {} records from {}'.format(len(data_xls_dct[fname]), fname))\n",
    "    xls_records += len(data_xls_dct[fname])\n",
    "\n",
    "print('Loaded total files: {}'.format(len(list_xls)))\n",
    "print('Loaded total records from all {}-files: {}'.format('xls', xls_records))\n",
    "\n",
    "fname_xls = list(data_xls_dct.keys())"
   ]
  },
  {
   "cell_type": "markdown",
   "id": "0e7afd2e-d6ec-4045-9736-74c45a6642cb",
   "metadata": {},
   "source": [
    "## Graphical summary of all loaded records<a id='2.6'></a>"
   ]
  },
  {
   "cell_type": "code",
   "execution_count": 35,
   "id": "c5683fd3-424b-492c-a25e-76261fbd4eba",
   "metadata": {},
   "outputs": [
    {
     "data": {
      "image/png": "[encoded data removed]",
      "text/plain": [
       "<Figure size 720x360 with 1 Axes>"
      ]
     },
     "metadata": {
      "needs_background": "light"
     },
     "output_type": "display_data"
    }
   ],
   "source": [
    "records_ori = pd.DataFrame({'x': ['csv', 'xlsx', 'xls'], 'y': [csv_records, xlsx_records, xls_records]})\n",
    "plt.figure(figsize=(10, 5))\n",
    "plt.barh('x', 'y', data=records_ori, color=['green', 'red', 'blue'])\n",
    "plt.ylabel('data file type', fontsize=15)\n",
    "plt.xlabel('# records', fontsize=15)\n",
    "plt.yticks(fontsize=15)\n",
    "plt.xticks(fontsize=15)\n",
    "plt.show()"
   ]
  },
  {
   "cell_type": "markdown",
   "id": "1543e2bd-ad61-48ae-9ce2-e7911450e9c7",
   "metadata": {},
   "source": [
    "# Extraction of features and values<a id='3_Extraction_of_features_and_values'></a>"
   ]
  },
  {
   "cell_type": "markdown",
   "id": "1b8d5451-d334-4916-bbf3-75f2b23f7ede",
   "metadata": {},
   "source": [
    "## csv-data<a id='3.1'></a>"
   ]
  },
  {
   "cell_type": "markdown",
   "id": "e138412a-39c8-4cef-841d-79072d2bcacd",
   "metadata": {},
   "source": [
    "### Inspection of csv-data by interactive widgets<a id='3.1.1'></a>"
   ]
  },
  {
   "cell_type": "code",
   "execution_count": 36,
   "id": "e1cdcf9d-d92c-4708-9149-a199706aaaf5",
   "metadata": {},
   "outputs": [
    {
     "data": {
      "application/vnd.jupyter.widget-view+json": {
       "model_id": "6226f35e81b84196a96e2e0d65264196",
       "version_major": 2,
       "version_minor": 0
      },
      "text/plain": [
       "interactive(children=(Dropdown(description='fname', options=('2018-07-18_E-coli_E2-Crimson_Cortisol_Conc_Curve…"
      ]
     },
     "metadata": {},
     "output_type": "display_data"
    }
   ],
   "source": [
    "@interact\n",
    "def view_csv(fname=list(data_csv_dct.keys()), lines=60):\n",
    "    display(data_csv_dct[fname].head(lines))"
   ]
  },
  {
   "cell_type": "markdown",
   "id": "a2ecc511-2758-4a34-8593-73f67d5a9036",
   "metadata": {
    "tags": []
   },
   "source": [
    "<div class=\"alert-info\"><font color=\"black\">\n",
    "\n",
    "<strong style='color:red'>Based on the interactive data inspection (see above), we have come to the following features and their respective value types:</strong>    \n",
    "    \n",
    "* <strong style='color:red'>First of all, the *.csv-originated DataFrames do not inlcude time series but only panel data obtained at cross-section of $t \\, =\\, 4.5$ hr.</strong>\n",
    "\n",
    "* <strong style='color:red'>Second, four most essential Features and their respective Values are:</strong>\n",
    "\n",
    "    1. A buffered cortisol concentration (Value) in the medium used as a clamped external condition (Feature), which we treat mathematically as an _explanatory_ variable (_regressor_).\n",
    "\n",
    "    2. Response (Feature) of cell culture to the cortisol dose in terms of fluorescent intensity (Value), which we treat mathematically as a _response_ variable.\n",
    "\n",
    "    3. Cell culture name (Feature) with binary categorical Value: _E. coli_ (Procariote) versus _Yeast_ (Eucariote).\n",
    "\n",
    "    4. Genotype name (Feature) with binary categorical Value: MT (mutation) versus WT (wild type without (WT) DNA mutation).\n",
    "\n",
    "* <strong style='color:red'>Third, two less essential Features are:</strong>\n",
    "\n",
    "    5. The name of each experiment with discrete categorical Value.\n",
    "\n",
    "    6. The date and time of each experiment with datetime Value.\n",
    "\n",
    "</font></div>  "
   ]
  },
  {
   "cell_type": "markdown",
   "id": "ec81e297-b6ab-4530-8bfd-8db9a95e3fa2",
   "metadata": {
    "tags": []
   },
   "source": [
    "<div class=\"alert-warning\"><font color=\"black\">\n",
    "    \n",
    "<strong style='color:red'>We develop and follow the following Feature-Value extraction production steps:</strong>    \n",
    "\n",
    "* Based on the context and our biological expertise, we first identify some specific fields, which are found in the first column (with index 0) and which do not change between different files, as features.\n",
    "\n",
    "* Similarly, we then identify specific fields present in the same row as the feature's values. Such values do not have fixed column indexes.\n",
    "    \n",
    "* Our feature extraction is based on the following observations:\n",
    "\n",
    "    1. The first row with index 0 contains feature 'Experiment Name' in column 0 and its value in column 1, e.g. ('feature', 'value') = ('Experiment Name', 'E-coli E2-Crimson Cortisol Conc Curve 2018 0718')\n",
    "    \n",
    "    2. The above (feature,value)-pair can be split into two essential (feature, value) pairs, (i) ('Cell', 'E-coli') and (ii) ('Reporter', 'E2-Crimson'). We have found that it is easier to identify the reporter as a string in the first column, ending with the sign '+.'\n",
    "\n",
    "    3. We also extract two 'date-time' features, (1) 'Record Date' and (2) 'Date Analyzed' with the corresponding datetime values found in the next column and on the same row, respectively.\n",
    "\n",
    "    4. We identify field 'Tube Name' as a feature corresponding to the experiment's input with the value given in the next column (i.e., with index 1) of the same row. In some cases, the values of the feature should be extracted algorithmically, in other cases the values of the feature are recorded in column 1.\n",
    "    \n",
    "        4.1. We observe that the first two occurrences of the values of the feature ('Tube Name' in column 0), given in column 1, correspond to control experiments and we skeep thoses. \n",
    "    \n",
    "        4.2. The third occurrence of the feature value corresponds to the maximum value of the cortisol used in a series of replicated experiments. All other values are obtained by halving the preceding value until the maximum value is reencountered. The latter manifests the second set of the same series of experimental measurements, and, so on. The typical number of repeated series of similar experiments or, briefly, replicas is three.\n",
    "    \n",
    "    5. Extracting (feature, value) pairs corresponding to measured reporter's levels or, equivalently, the response variables is slightly more complicated. Specifically, the corresponding feature names are: 'Geo Mean' (i.e., geometrical mean), 'Mean,' 'Median,' and 'SD' (i.e., standard deviation). Here, 'SD' is given for 'Median' only. These feature names are placed in the rows designated with the string 'Population' in the first column (i.e., the column with index 0). Such an identification seems reasonable because population measurements are performed in all cases. It is important to note that 'Geo Mean' and 'Mean' are not present in all data files, while 'Median' and 'SD' are always recorded. The observation appears reasonable because 'Median' is the most robust statistic compared with 'Mean' in the cases where outliers are present.\n",
    "    \n",
    "    6. The corresponding values of features extracted in Item 5 can be found in the row designated with the reporter protein name in the first column, e.g., 'E2-Crimson+' in the shown example. Here sign '+' is appended to the reporter name to indicate that the reporter is activated. We ignore this sign. Recall that the reporter protein name is a vital feature itself extracted in Item 2.\n",
    "</font></div>\n",
    "\n",
    "<div class=\"alert-success\"><font color=\"black\">Items 1 - 6 formulated above summarize our context- and expertise-dependent extraction of relevant (feature, value) pairs. We now move to the next step of our data injection and cleaning script to code the formalized (feature, value) pairs using regular expressions.</font></div>\n"
   ]
  },
  {
   "cell_type": "markdown",
   "id": "63f1a5ab-b3a7-4f93-b1e2-8b010c8d5339",
   "metadata": {},
   "source": [
    "### A parser to process panel csv-data<a id='3.1.2'></a>"
   ]
  },
  {
   "cell_type": "code",
   "execution_count": 37,
   "id": "5a38bd39-9ade-4600-a0a6-0b8364950e31",
   "metadata": {},
   "outputs": [
    {
     "name": "stdout",
     "output_type": "stream",
     "text": [
      "The function to clean and structure cortisol data has been defined.\n"
     ]
    }
   ],
   "source": [
    "def process_panel_data(df_raw = np.nan):\n",
    "    \"\"\"\n",
    "    process_panel_data is a function to parse raw panel cross-section time-snapshot\n",
    "    \n",
    "    Input:\n",
    "    df_raw - DataFrame with raw data\n",
    "\n",
    "    Output:\n",
    "    df_raw - an unstructured DataFrame with all raw data\n",
    "    df - a structured DataFrame with a raw date subset (may need an additional cleaning)\n",
    "\n",
    "    Required modules:\n",
    "    import pandas as pd\n",
    "    import more_itertools\n",
    "    \"\"\"\n",
    "    # Check if there are empty columns in the spreadsheet: Drop all columns on the right of such columns\n",
    "    col_empty_lst = df_raw[df_raw.columns[df_raw.isna().all()]].columns\n",
    "    if 0 != len(col_empty_lst):\n",
    "        df_raw = df_raw.iloc[:, :col_empty_lst[0]]\n",
    "            \n",
    "    # Create a pandas DataFrame with selected features and values:\n",
    "    df = pd.DataFrame()\n",
    "            \n",
    "    # Extract values of non-measured features\n",
    "    nrow = len(df_raw[ df_raw.iloc[:, 0] ==  'Experiment Name'])\n",
    "    df['Experiment'] = [ df_raw.iloc[0,1] ] * nrow\n",
    "    df['Record Date'] = pd.to_datetime( df_raw[ df_raw.iloc[:, 0] ==  'Record Date' ].iloc[:,1], errors='coerce' ).to_list()    \n",
    "    df['Date Analyzed'] = pd.to_datetime( df_raw[ df_raw.iloc[:, 0] ==  'Date Analyzed' ].iloc[:,1], errors='coerce' ).to_list()\n",
    "    df['Delay'] = [ df['Date Analyzed'][i] - df['Record Date'][i] for i in range(nrow)]\n",
    "    df['Cell'] = [ 'EcN1917' if df['Experiment'][0].find('oli') !=-1 else 'S.cerevisiae' if df['Experiment'][0].find('Yeast') else np.nan ] * nrow\n",
    "    df['Type'] = ['WT' if df['Experiment'][0].find('WT')  !=-1 else 'MT' ] * nrow\n",
    "    df['Effector'] = ['Cortisol'] * nrow\n",
    "    df['Tube Name'] = df_raw[ df_raw.iloc[:, 0] ==  'Tube Name' ].iloc[:,1].to_list()\n",
    "    df['Tube Name'] = df['Tube Name'].str.replace('-','.')\n",
    "        \n",
    "    # Extract cortisol doses\n",
    "    df['Effector Dose'] = df['Tube Name'].str.extract('(\\d*\\.?\\d+)').astype('float64')\n",
    "    df['Unit'] = df['Tube Name'].str.extract('(.M)')    \n",
    "    dose_lst = df.apply(lambda row: row['Effector Dose']*1.0e+06 if row['Unit'] == \"mM\" else (row['Effector Dose']*1.0e+03 if row['Unit'] == \"uM\" else row['Effector Dose'] ), axis = 1)\n",
    "        \n",
    "    # Extract replicated subsets\n",
    "    dose_max = np.nanmax( dose_lst )\n",
    "    dose_min = np.nanmin( dose_lst[ dose_lst != 0 ] )    \n",
    "    dose_max_ind = [index for index, value in enumerate(dose_lst) if value == dose_max]\n",
    "    dose_min_ind = [index for index, value in enumerate(dose_lst) if value == dose_min]\n",
    "    replicas = [np.nan] * nrow\n",
    "    \n",
    "    # remove max. control value if needed\n",
    "    if len(dose_min_ind) < len(dose_max_ind):\n",
    "        dose_max_ind = dose_max_ind[1:]\n",
    "    \n",
    "    rep_num = 1    \n",
    "    if len(dose_max_ind) == 1:\n",
    "        replicas[ dose_max_ind[0]:(dose_min_ind[0]+1)  ] = [rep_num] * (dose_min_ind[0] - dose_max_ind[0] + 1)\n",
    "    else:\n",
    "        dose_lst_tmp = dose_lst.copy()\n",
    "        dose_lst_tmp[ dose_lst_tmp == 0 ] = np.nan        \n",
    "        dose_min_k_lst = []\n",
    "        for k in range( len(dose_max_ind) - 1 ):\n",
    "            dose_min_k = np.nanmin( dose_lst_tmp[ dose_max_ind[k]:dose_max_ind[k+1] ] )\n",
    "            dose_min_k_lst.append(dose_min_k)\n",
    "            dose_min_ind = [index for index, value in enumerate(dose_lst[ dose_max_ind[k]:dose_max_ind[k+1] ]) if value == dose_min_k]\n",
    "            dose_min_ind[0] = dose_min_ind[0] + dose_max_ind[k]\n",
    "            replicas[ dose_max_ind[k]:(dose_min_ind[0]+1)  ] = [rep_num] * ( dose_min_ind[0] - dose_max_ind[k] + 1 )\n",
    "            rep_num += 1\n",
    "        \n",
    "        # we use typical dose min values found so far and eleminate all other small values\n",
    "        dose_lst_tmp[ dose_lst_tmp  < np.nanmin(dose_min_k_lst)  ] = np.nan\n",
    "        dose_min_last = np.nanmin( dose_lst_tmp[ dose_max_ind[k+1]: ] )\n",
    "        dose_min_ind_last = [index for index, value in enumerate(dose_lst[ dose_max_ind[k+1]: ]) if value == dose_min_last]\n",
    "        dose_min_ind_last[0] = dose_min_ind_last[0] + dose_max_ind[k+1]\n",
    "        replicas[ dose_max_ind[k+1]:(dose_min_ind_last[0]+1)  ] = [rep_num] * ( dose_min_ind_last[0] - dose_max_ind[k+1] + 1 )\n",
    "                    \n",
    "    df['Replica'] = replicas\n",
    "    df['Dose'] = dose_lst\n",
    "    \n",
    "    # Extract values of measured features from the row with activated \"reporter+\"\n",
    "    reporter_vals = df_raw[ (df_raw[0].str[-1] == '+') & (df_raw[0] != 'Hoechst+') ].reset_index(drop=True)\n",
    "    df['Reporter'] = reporter_vals.iloc[:,0].str.rstrip('+')\n",
    "    if -1 != str(list(set(more_itertools.collapse(df_raw.values)))).find('Geo'):\n",
    "        reporter_vals = reporter_vals.iloc[:, -4:]\n",
    "        reporter_vals.columns = ['Geometric', 'Mean', 'Median', 'SD']\n",
    "        col_names = ['Experiment', 'Record Date', 'Date Analyzed', 'Delay', 'Cell', 'Type', 'Effector', 'Reporter', 'Tube Name', 'Replica', 'Effector Dose', 'Unit', 'Dose', 'Geometric', 'Mean', 'Median', 'SD']\n",
    "    else:\n",
    "        reporter_vals = reporter_vals.iloc[:, -2:]\n",
    "        reporter_vals.columns = ['Median', 'SD']\n",
    "        col_names = ['Experiment', 'Record Date', 'Date Analyzed', 'Delay', 'Cell', 'Type', 'Effector', 'Reporter', 'Tube Name', 'Replica', 'Effector Dose', 'Unit', 'Dose', 'Median', 'SD']\n",
    "        \n",
    "    df = pd.concat([df, reporter_vals], axis=1)\n",
    "    \n",
    "    # Change the order of columns\n",
    "    df = df[col_names]\n",
    "    \n",
    "    return df\n",
    "\n",
    "print('The function to clean and structure cortisol data has been defined.')"
   ]
  },
  {
   "cell_type": "markdown",
   "id": "6ca7662b-1a89-4b0a-bff5-46631b16df1a",
   "metadata": {
    "tags": []
   },
   "source": [
    "### Processing the panel csv-data<a id='3.1.3'></a>"
   ]
  },
  {
   "cell_type": "code",
   "execution_count": 38,
   "id": "17b5cb13-a437-4949-b289-85160e55df84",
   "metadata": {},
   "outputs": [
    {
     "name": "stdout",
     "output_type": "stream",
     "text": [
      "REPORT ON PROCESSED csv-FILES:\n",
      "Extracted 17 features and 19\tobservations from total 228 records in csv-file:\t2018-07-18_E-coli_E2-Crimson_Cortisol_Conc_Curve_2018_0718_SD.csv\n",
      "Extracted 17 features and 60\tobservations from total 720 records in csv-file:\t2018-07-20_E-coli_RFP_Cortisol_Conc_Curve-Density-Culture_Conditions_2018_0720.csv\n",
      "Extracted 17 features and 23\tobservations from total 390 records in csv-file:\t2018-09-13_Working_2_GFP_Yeast_Cortisol_THF_Conc_Curve_2018_0913.csv\n",
      "Extracted 17 features and 37\tobservations from total 443 records in csv-file:\t2018-09-26_Ecoli_RFP_Cortisol_THF_Conc_Curve_2018_0926.csv\n",
      "Extracted 17 features and 37\tobservations from total 443 records in csv-file:\t2018-09-26_Working_Ecoli_RFP_Cortisol_THF_Conc_Curve_2018_0926.csv\n",
      "Extracted 17 features and 40\tobservations from total 480 records in csv-file:\t2018-10-16_Ecoli_RFP_Cortisol_THF_Conc_Curve_2018_1016.csv\n",
      "Extracted 17 features and 40\tobservations from total 519 records in csv-file:\t2018-10-16_Working_Ecoli_RFP_Cortisol_THF_Conc_Curve_2018_1016.csv\n",
      "Extracted 15 features and 39\tobservations from total 584 records in csv-file:\t2019-12-20_Ecoli_WT_pE2Crimson_Cortisol_Dose_Response_2019_1204.csv\n",
      "Extracted 15 features and 50\tobservations from total 749 records in csv-file:\t2019-12-20_Ecoli_sfGFP_integrate_C11_Dose_Response_2019.csv\n",
      "Total processed data csv-files: 9\n",
      "Total processed records: 345\n"
     ]
    }
   ],
   "source": [
    "sc_panel_csv_dfdct = {}\n",
    "csv_records_processed = 0\n",
    "print('REPORT ON PROCESSED {}-FILES:'.format('csv'))\n",
    "for fname in fname_csv:\n",
    "    sc_panel_csv_dfdct[fname] = process_panel_data(df_raw = data_csv_dct[fname])\n",
    "    print('Extracted {} features and {}\\tobservations from total {} records in csv-file:\\t{}'.format(sc_panel_csv_dfdct[fname].shape[1], sc_panel_csv_dfdct[fname].shape[0], len(data_csv_dct[fname]), fname))\n",
    "    csv_records_processed += len(sc_panel_csv_dfdct[fname])\n",
    "\n",
    "print(\"Total processed data csv-files: {}\".format(len(list_csv)))\n",
    "print('Total processed records: {}'.format(csv_records_processed))"
   ]
  },
  {
   "cell_type": "markdown",
   "id": "b55f2e2c-d3a3-463b-aba4-7da572dd5e0b",
   "metadata": {},
   "source": [
    "### Cleaning the panel csv-data<a id='3.14'></a>"
   ]
  },
  {
   "cell_type": "code",
   "execution_count": 39,
   "id": "0f275a19-d690-44d6-8ce6-508cbe63a982",
   "metadata": {},
   "outputs": [
    {
     "data": {
      "application/vnd.jupyter.widget-view+json": {
       "model_id": "4a441a511aa14636826c118200ae8791",
       "version_major": 2,
       "version_minor": 0
      },
      "text/plain": [
       "interactive(children=(Dropdown(description='fname', options=('2018-07-18_E-coli_E2-Crimson_Cortisol_Conc_Curve…"
      ]
     },
     "metadata": {},
     "output_type": "display_data"
    }
   ],
   "source": [
    "# First, let's have a look at the data again\n",
    "@interact\n",
    "def view_csv(fname=list(sc_panel_csv_dfdct.keys()), lines=60):\n",
    "    display(sc_panel_csv_dfdct[fname].head(lines))"
   ]
  },
  {
   "cell_type": "code",
   "execution_count": 40,
   "id": "74622e31-0061-4fa6-9408-011a4f542fd7",
   "metadata": {},
   "outputs": [
    {
     "data": {
      "application/vnd.jupyter.widget-view+json": {
       "model_id": "10556658bce64af090c1692f1133e4b3",
       "version_major": 2,
       "version_minor": 0
      },
      "text/plain": [
       "interactive(children=(Dropdown(description='fname', options=('2018-07-18_E-coli_E2-Crimson_Cortisol_Conc_Curve…"
      ]
     },
     "metadata": {},
     "output_type": "display_data"
    }
   ],
   "source": [
    "# Now, we can clean the data by dropping rows with `NaN` in the Replica column\n",
    "for fname in list(sc_panel_csv_dfdct.keys()):\n",
    "    sc_panel_csv_dfdct[fname].dropna(subset=['Replica'], inplace=True)\n",
    "\n",
    "# Let's have a final look at the data again\n",
    "@interact\n",
    "def view_csv(fname=list(sc_panel_csv_dfdct.keys()), lines=60):\n",
    "    display(sc_panel_csv_dfdct[fname].head(lines))    "
   ]
  },
  {
   "cell_type": "markdown",
   "id": "6d361fe8-e213-4aab-a603-2cdc322b6db1",
   "metadata": {
    "tags": []
   },
   "source": [
    "<div class=\"alert-success\"><font color=\"black\">We have completed the Feature-Value extraction and data cleaning production stage for all panel-data from csv-type files.</font></div>"
   ]
  },
  {
   "cell_type": "markdown",
   "id": "c6405404-9cef-4ed1-bcbd-f92915bb86a3",
   "metadata": {},
   "source": [
    "## xlsx-data<a id='3.2'></a>"
   ]
  },
  {
   "cell_type": "markdown",
   "id": "f40d7a58-e1e9-42ed-8dc0-2367801c6583",
   "metadata": {},
   "source": [
    "### Inspection of xlsx-data by interactive widgets<a id='3.2.1'></a>"
   ]
  },
  {
   "cell_type": "code",
   "execution_count": 41,
   "id": "05ff85b4-fe6f-4f44-a1c3-a3d8942648c2",
   "metadata": {},
   "outputs": [
    {
     "data": {
      "application/vnd.jupyter.widget-view+json": {
       "model_id": "c2a7146c63a840ce9dd3acc0152934ad",
       "version_major": 2,
       "version_minor": 0
      },
      "text/plain": [
       "interactive(children=(Dropdown(description='fname', options=('2019-08-19_1st_dataset_082819_pLysRsfGFP_IAI6_to…"
      ]
     },
     "metadata": {},
     "output_type": "display_data"
    }
   ],
   "source": [
    "# Inspect the raw DataFrames\n",
    "@interact\n",
    "def view_csv(fname=list(data_xlsx_dct.keys()), lines=60):\n",
    "    display(data_xlsx_dct[fname].head(lines))"
   ]
  },
  {
   "cell_type": "markdown",
   "id": "36b7af5f-a53c-4bb2-909b-60f42d86cad7",
   "metadata": {},
   "source": [
    "<div class=\"alert-warning\"><font color=\"black\">\n",
    "We observe that xlsx-data encompass both time series data and panel data, the latter are obtained at cross-section $t \\, =\\, 4.5$ hr. Therefore, we have to add a new feature, Time, to be automatically detected in the second column for all time-series data.\n",
    "</font></div>  "
   ]
  },
  {
   "cell_type": "markdown",
   "id": "d77b713e-5f50-45c5-a301-b4832a3738d9",
   "metadata": {},
   "source": [
    "### Separating time-series xlsx-data from panel xlsx-data<a id='3.2.2'></a>"
   ]
  },
  {
   "cell_type": "code",
   "execution_count": 42,
   "id": "e822ef20-35a2-48c3-8d5e-7eb561d34d29",
   "metadata": {},
   "outputs": [
    {
     "name": "stdout",
     "output_type": "stream",
     "text": [
      "REPORT ON SEPARATION OF PANEL FROM TIME-SERIES DATA LOADED FROM *.xlsx FILES:\n",
      "Total xlsx-files with panel data: 2\n",
      "Total xlsx-files with time-series data: 11\n",
      "\n",
      "Files with panel data:\n",
      "2019_12_04_Ecoli_pE2Crimson_WT_Cortisol_Dose_Response_re-analysis.xlsx\n",
      "2019_12_19_Ecoli_sfGFP_Integrate_C11_Dose_Response_reanalysis_v1.xlsx\n",
      "\n",
      "Files with time-series data:\n",
      "2019-08-19_1st_dataset_082819_pLysRsfGFP_IAI6_tolC_ApmR_2mM_Cort.xlsx\n",
      "2019-09-10_pLysRsfGFP_and_Integrate_tolcLysR_E2_crimson.xlsx\n",
      "2019-10-30_103019_Cort_vs_THF_in_pLysRsfGFP_EN1917_Apmr_in_tolC_mutant.xlsx\n",
      "2019-11-20_112019_EN1917_tolC_integrate_LysRsfGFP_2mM_Cortisol_against_negative_control.xlsx\n",
      "2019-12-27_C11_vs_C11_with_pLysE2Crimson_Enhancement.xlsx\n",
      "2019_10_30_Cort_vs_THF_in_pLysRsfGFP_EN1917_Apmr_in_tolC_mutant.xlsx\n",
      "2019_10_31_1mM_Cortisol_vs_T1_negative.xlsx\n",
      "2020-01-02_010220_2mM_cort_C11.xlsx\n",
      "2020-01-07_010720_beta_glucuronide_vs_cort_1mM_biotek.xlsx\n",
      "2020-01-07_010720_beta_vs_cort_2mM.xlsx\n",
      "2020-01-31_1mM_cort_vs_thf_e_coli_nissle_1917_sfGFP.xlsx\n"
     ]
    }
   ],
   "source": [
    "data_xlsx_panel_dct = {}\n",
    "data_xlsx_time_series_dct = {}\n",
    "for fname in fname_xlsx:\n",
    "    df_raw = data_xlsx_dct[fname].copy(deep=True)\n",
    "    if data_xlsx_dct[fname][1].isin({'Time'}).sum() > 0:\n",
    "        data_xlsx_time_series_dct[fname] = df_raw\n",
    "    else:\n",
    "        data_xlsx_panel_dct[fname] = df_raw\n",
    "\n",
    "fname_xlsx_panel = list(data_xlsx_panel_dct.keys())\n",
    "fname_xlsx_time_series = list(data_xlsx_time_series_dct.keys())\n",
    "        \n",
    "print('REPORT ON SEPARATION OF PANEL FROM TIME-SERIES DATA LOADED FROM {} FILES:'.format('*.xlsx'))\n",
    "\n",
    "print(\"Total xlsx-files with panel data: {}\".format(len(fname_xlsx_panel)))\n",
    "print('Total xlsx-files with time-series data: {}'.format(len(fname_xlsx_time_series)))\n",
    "\n",
    "print('\\nFiles with panel data:')\n",
    "print_column_list.columnize(fname_xlsx_panel, displaywidth=80)\n",
    "\n",
    "print('\\nFiles with time-series data:')\n",
    "print_column_list.columnize(fname_xlsx_time_series, displaywidth=80)"
   ]
  },
  {
   "cell_type": "markdown",
   "id": "224712a0-7d25-4fbd-adad-dc011a244d25",
   "metadata": {},
   "source": [
    "### Process the panel xlsx-data by the panel csv-data parser<a id='3.2.3'></a>"
   ]
  },
  {
   "cell_type": "markdown",
   "id": "3fee42ed-7f58-4a2e-882f-50dc2b05c0b4",
   "metadata": {},
   "source": [
    "<div class=\"alert-success\"><font color=\"black\">\n",
    "After a few debugging runs, we have slightly modified only one line of the above csv-parser code, `process_panel_data`, where `reporter+` is detected. Namely, we ignore the label `Hoechst+` as not corresponding to any known reporter protein.\n",
    "</font></div>"
   ]
  },
  {
   "cell_type": "code",
   "execution_count": 43,
   "id": "1684ac11-8b7f-45fa-8f0b-8145003b8275",
   "metadata": {},
   "outputs": [
    {
     "name": "stdout",
     "output_type": "stream",
     "text": [
      "REPORT ON PROCESSED PANEL xlsx-DATA FILES:\n",
      "Extracted 15 features and 39 observations from total 39 records in csv-file: 2019_12_04_Ecoli_pE2Crimson_WT_Cortisol_Dose_Response_re-analysis.xlsx\n",
      "Extracted 15 features and 50 observations from total 50 records in csv-file: 2019_12_19_Ecoli_sfGFP_Integrate_C11_Dose_Response_reanalysis_v1.xlsx\n",
      "Total processed xlsx-files with panel-data: 2\n",
      "Total processed records: 89\n"
     ]
    }
   ],
   "source": [
    "sc_panel_xlsx_dfdct = {}\n",
    "xlsx_panel_records_processed = 0\n",
    "print('REPORT ON PROCESSED PANEL xlsx-DATA FILES:')\n",
    "for fname in fname_xlsx_panel:\n",
    "    df_raw = data_xlsx_panel_dct[fname]\n",
    "    df_cl = process_panel_data(df_raw = df_raw)\n",
    "    sc_panel_xlsx_dfdct[fname] = df_cl.copy(deep=True)\n",
    "    print('Extracted {} features and {} observations from total {} records in csv-file: {}'.format(df_cl.shape[1], df_cl.shape[0], len(df_cl), fname))\n",
    "    xlsx_panel_records_processed += len(df_cl)\n",
    "\n",
    "print(\"Total processed xlsx-files with panel-data: {}\".format(len(fname_xlsx_panel)))\n",
    "print('Total processed records: {}'.format(xlsx_panel_records_processed))"
   ]
  },
  {
   "cell_type": "markdown",
   "id": "60c0e70b-c22b-4e05-8412-2a5986688878",
   "metadata": {},
   "source": [
    "### Clean the panel xlsx-data<a id='3.24'></a>"
   ]
  },
  {
   "cell_type": "code",
   "execution_count": 49,
   "id": "5c688d96-b4b6-4bb7-a4a9-ee0f703b7c89",
   "metadata": {},
   "outputs": [
    {
     "data": {
      "application/vnd.jupyter.widget-view+json": {
       "model_id": "df92be034e354295a9bc4dc8d5fe5266",
       "version_major": 2,
       "version_minor": 0
      },
      "text/plain": [
       "interactive(children=(Dropdown(description='fname', options=('2019_12_04_Ecoli_pE2Crimson_WT_Cortisol_Dose_Res…"
      ]
     },
     "metadata": {},
     "output_type": "display_data"
    }
   ],
   "source": [
    "# First, let's inspect the raw panel xlsx-data\n",
    "@interact\n",
    "def view_raw_panel_xlsx(fname=list(sc_panel_xlsx_dfdct.keys()), lines=60):\n",
    "    display(sc_panel_xlsx_dfdct[fname].head(lines))"
   ]
  },
  {
   "cell_type": "code",
   "execution_count": 50,
   "id": "0b75917a-e156-4576-b99f-46cf5e82b17d",
   "metadata": {},
   "outputs": [
    {
     "data": {
      "application/vnd.jupyter.widget-view+json": {
       "model_id": "8e380a0e07b24932a1d662cb27366845",
       "version_major": 2,
       "version_minor": 0
      },
      "text/plain": [
       "interactive(children=(Dropdown(description='fname', options=('2019_12_04_Ecoli_pE2Crimson_WT_Cortisol_Dose_Res…"
      ]
     },
     "metadata": {},
     "output_type": "display_data"
    }
   ],
   "source": [
    "# Drop rows with `NaN` in the Replica column from all xlsx-originated DataFrames\n",
    "for fname in list(sc_panel_xlsx_dfdct.keys()):\n",
    "    sc_panel_xlsx_dfdct[fname].dropna(subset=['Replica'], inplace=True)\n",
    "\n",
    "# Inspect the cleaned data again\n",
    "@interact\n",
    "def view_sc_panel_xlsx(fname=list(sc_panel_xlsx_dfdct.keys()), lines=60):\n",
    "    display(sc_panel_xlsx_dfdct[fname].head(lines))    "
   ]
  },
  {
   "cell_type": "markdown",
   "id": "067af204-d0e8-4393-91f8-06098e4a1023",
   "metadata": {},
   "source": [
    "<div class=\"alert-success\"><font color=\"black\">We have completed the Feature-Value extraction and data cleaning production stage for the panel xlsx-data.</font></div>"
   ]
  },
  {
   "cell_type": "markdown",
   "id": "a93f19d8-8cdf-4ffa-894d-1ce346528e53",
   "metadata": {},
   "source": [
    "### A parser to process the time-series xlsx-data<a id='3.25'></a>\n",
    "* Here, we develop a time-series parser to process the population-wide data requiring further per-cell normalization and calibration. "
   ]
  },
  {
   "cell_type": "code",
   "execution_count": 51,
   "id": "4b7cb434-2d3b-446c-816f-f7b8b075df36",
   "metadata": {},
   "outputs": [
    {
     "name": "stdout",
     "output_type": "stream",
     "text": [
      "A function to parse population-wide time-series data has been defined.\n"
     ]
    }
   ],
   "source": [
    "def process_time_series_data(df_raw = np.nan):\n",
    "    \"\"\"\n",
    "    process_time_series_data is a function to parse raw time-series data\n",
    "    \n",
    "    Input:\n",
    "    df_raw - an unstructured DataFrame with all raw time-series data\n",
    "    \n",
    "    output:\n",
    "    rawts_df - a strucured DataFrame with a raw time-series data\n",
    "    rawbd_df - a strucured DataFrame with a raw background data\n",
    "    \n",
    "    Required modules:\n",
    "    import pandas as pd\n",
    "    import more_itertools\n",
    "    import datetime\n",
    "    \"\"\"\n",
    "    \n",
    "    # Create a pandas DataFrame with selected features and values\n",
    "    df = pd.DataFrame()\n",
    "\n",
    "    # Extract the number of reads\n",
    "    start_kinetics = df_raw[ df_raw.iloc[:, 0] ==  'Start Kinetic' ][1].values[0]\n",
    "    start_kinetics_lst = start_kinetics.split()\n",
    "    reads = int(start_kinetics_lst[-2])\n",
    "        \n",
    "    # Extract values of non-time-series value features\n",
    "    experiment = [ df_raw[ df_raw.iloc[:, 0] ==  'Experiment' ][1].values[0]] * reads \n",
    "    cell = [ df_raw[ df_raw.iloc[:, 0] ==  'Cell' ][1].values[0] ] * reads \n",
    "    genotype = [ df_raw[ df_raw.iloc[:, 0] ==  'Genotype' ][1].values[0] ] * reads \n",
    "    effector_name = [ df_raw[ df_raw.iloc[:, 0].str.contains('^Cortisol') == True ][0].values[0] ] * reads\n",
    "    effector_conc = [ df_raw[ df_raw.iloc[:, 0].str.contains('^Cortisol') == True ][1].values[0] ] * reads\n",
    "    reporter = [ df_raw[ df_raw.iloc[:, 0] ==  'Reporter' ][1].values[0] ] * reads \n",
    "    plasmid = [ df_raw[ df_raw.iloc[:, 0] ==  'Plasmid' ][1].values[0] ] * reads \n",
    "    date = df_raw[ df_raw.iloc[:, 0] ==  'Date' ][1].values[0]\n",
    "    time = df_raw[ df_raw.iloc[:, 0] ==  'Time' ][1].values[0]\n",
    "    date_time = pd.to_datetime(datetime.datetime.combine(date, time))\n",
    "    \n",
    "    runtime = [ (start_kinetics_lst[1].split(':')[0] + 'hr')]  * reads  \n",
    "    interval = [ (start_kinetics_lst[4].split(':')[1] + 'min') ] * reads \n",
    "    \n",
    "    # Extract indeces of rows where time series are recorded\n",
    "    time_row_lst = df_raw.index[df_raw[1] == 'Time'].tolist()\n",
    "    \n",
    "    # Extract all time series and check for missing values\n",
    "    tmp_df_lst = []\n",
    "    mean_lst = []\n",
    "    OVRFLW = False\n",
    "    for i in range(len(time_row_lst)):\n",
    "        tmp_df = df_raw.iloc[time_row_lst[i]:(time_row_lst[i]+reads+1), : ].reset_index(drop=True).drop(columns=[0, 2], axis=1)\n",
    "        tmp_df.columns = tmp_df.iloc[0]\n",
    "        tmp_df = tmp_df.drop(0, axis=0).reset_index(drop=True)        \n",
    "        if 'OVRFLW' in tmp_df.values:\n",
    "            OVRFLW = True\n",
    "            tmp_df[ tmp_df == 'OVRFLW'  ] = np.nan\n",
    "        mean_lst.append( np.mean(tmp_df.mean(skipna = True)) )\n",
    "        tmp_df_lst.append(tmp_df)\n",
    "        \n",
    "    min_i = np.argmin(mean_lst)\n",
    "    max_i = np.argmax(mean_lst)\n",
    "    \n",
    "    odbd_df = tmp_df_lst[ min_i ].copy(deep=True)\n",
    "    odts_df = tmp_df_lst[ max_i ].copy(deep=True)\n",
    "        \n",
    "    # Extract additional useful features\n",
    "    time_lst = odts_df['Time'].tolist()\n",
    "    df['Daytime'] = [date_time + datetime.timedelta(hours=t.hour, minutes=t.minute, seconds=t.second, microseconds=t.microsecond) for t in time_lst ]\n",
    "    df['Time ODBD'] = odbd_df['Time']\n",
    "    df['Time ODTS'] = odts_df['Time']\n",
    "    df['Delta-Time ODTS-ODBD'] = [ datetime.datetime.combine(datetime.date.today(), df['Time ODTS'][i]) - datetime.datetime.combine(datetime.date.today(), df['Time ODBD'][i]) for i in range(reads)]\n",
    "    df['Runtime'] = pd.DataFrame(runtime)\n",
    "    df['Interval'] = pd.DataFrame(interval)\n",
    "    df['Reads'] = pd.DataFrame( [reads] * reads )\n",
    "    df['Experiment'] = pd.DataFrame(experiment)\n",
    "    df['Cell'] = pd.DataFrame(cell)\n",
    "    df['Type'] = pd.DataFrame(genotype)\n",
    "    df['Effector'] = pd.DataFrame(effector_name)\n",
    "    df['MaxDose'] = pd.DataFrame(effector_conc)\n",
    "    df['Reporter'] = pd.DataFrame(reporter)\n",
    "    df['Plasmid'] = pd.DataFrame(plasmid)\n",
    "    \n",
    "    df = pd.concat([df, df['Daytime'].diff().rename('Record Interval')], axis=1)\n",
    "    t = df['Time ODTS'][0]\n",
    "    df.loc[0, 'Record Interval'] = datetime.timedelta(hours=t.hour, minutes=t.minute, seconds=t.second, microseconds=t.microsecond)\n",
    "    df['OVRFLW'] = pd.DataFrame( [OVRFLW] * reads )\n",
    "    df['Hour'] = np.cumsum([t.seconds / 3600 for t in df['Record Interval']])    \n",
    "    pts_df = pd.concat([ df, odts_df.iloc[:,1:].astype(float) ], axis=1)\n",
    "    bgd_df = pd.concat([ df, odbd_df.iloc[:,1:].astype(float) ], axis=1)\n",
    "    \n",
    "    return pts_df, bgd_df\n",
    "\n",
    "print('A function to parse population-wide time-series data has been defined.')"
   ]
  },
  {
   "cell_type": "markdown",
   "id": "3790dc98-0ee5-40cd-a11c-5da62d8e4ddf",
   "metadata": {},
   "source": [
    "### Processing the time-series xlsx-data<a id='3.2.3'></a>"
   ]
  },
  {
   "cell_type": "code",
   "execution_count": 53,
   "id": "b34acda5-e87f-494c-9034-7f4f59f38bfb",
   "metadata": {},
   "outputs": [
    {
     "name": "stdout",
     "output_type": "stream",
     "text": [
      "REPORT ON PROCESSED TIME-SERIES xlsx-DATA FILES:\n",
      "Extracted 49 records across 113 columns from total 278 records in the xlsx-file (OVRFLW: False): 2019-08-19_1st_dataset_082819_pLysRsfGFP_IAI6_tolC_ApmR_2mM_Cort.xlsx\n",
      "Extracted 73 records across 113 columns from total 437 records in the xlsx-file (OVRFLW: False): 2019-09-10_pLysRsfGFP_and_Integrate_tolcLysR_E2_crimson.xlsx\n",
      "Extracted 41 records across 113 columns from total 260 records in the xlsx-file (OVRFLW: True ): 2019-10-30_103019_Cort_vs_THF_in_pLysRsfGFP_EN1917_Apmr_in_tolC_mutant.xlsx\n",
      "Extracted 41 records across 113 columns from total 260 records in the xlsx-file (OVRFLW: False): 2019-11-20_112019_EN1917_tolC_integrate_LysRsfGFP_2mM_Cortisol_against_negative_control.xlsx\n",
      "Extracted 41 records across 113 columns from total 346 records in the xlsx-file (OVRFLW: False): 2019-12-27_C11_vs_C11_with_pLysE2Crimson_Enhancement.xlsx\n"
     ]
    },
    {
     "name": "stderr",
     "output_type": "stream",
     "text": [
      "/tmp/ipykernel_4150174/3941192288.py:55: FutureWarning:\n",
      "\n",
      "Dropping of nuisance columns in DataFrame reductions (with 'numeric_only=None') is deprecated; in a future version this will raise TypeError.  Select only valid columns before calling the reduction.\n",
      "\n"
     ]
    },
    {
     "name": "stdout",
     "output_type": "stream",
     "text": [
      "Extracted 41 records across 113 columns from total 261 records in the xlsx-file (OVRFLW: True ): 2019_10_30_Cort_vs_THF_in_pLysRsfGFP_EN1917_Apmr_in_tolC_mutant.xlsx\n",
      "Extracted 49 records across 113 columns from total 279 records in the xlsx-file (OVRFLW: True ): 2019_10_31_1mM_Cortisol_vs_T1_negative.xlsx\n",
      "Extracted 41 records across 113 columns from total 260 records in the xlsx-file (OVRFLW: False): 2020-01-02_010220_2mM_cort_C11.xlsx\n",
      "Extracted 41 records across 113 columns from total 260 records in the xlsx-file (OVRFLW: False): 2020-01-07_010720_beta_glucuronide_vs_cort_1mM_biotek.xlsx\n",
      "Extracted 41 records across 113 columns from total 262 records in the xlsx-file (OVRFLW: False): 2020-01-07_010720_beta_vs_cort_2mM.xlsx\n",
      "Extracted 41 records across 113 columns from total 359 records in the xlsx-file (OVRFLW: False): 2020-01-31_1mM_cort_vs_thf_e_coli_nissle_1917_sfGFP.xlsx\n",
      "Total processed xlsx-files with time-series data: 11\n",
      "Total processed records: 499\n"
     ]
    }
   ],
   "source": [
    "pop_ts_xlsx_dfdct = {}\n",
    "bgd_xlsx_dfdct = {}\n",
    "xlsx_raw_ts_records_processed = 0\n",
    "print('REPORT ON PROCESSED TIME-SERIES xlsx-DATA FILES:')\n",
    "for fname in fname_xlsx_time_series:\n",
    "    df_raw_ts = data_xlsx_time_series_dct[fname]\n",
    "    pts_df, bgd_df = process_time_series_data(df_raw = df_raw_ts)    \n",
    "    pop_ts_xlsx_dfdct[fname] = pts_df.copy(deep=True)\n",
    "    bgd_xlsx_dfdct[fname] = bgd_df.copy(deep=True)\n",
    "    overflow = '(OVRFLW: False)'\n",
    "    if pts_df['OVRFLW'].mean():\n",
    "        overflow = '(OVRFLW: True )'\n",
    "    print('Extracted {} records across {} columns from total {} records in the xlsx-file {}: {}'.format(pts_df.shape[0], pts_df.shape[1], len(df_raw_ts), overflow, fname))\n",
    "    xlsx_raw_ts_records_processed += len(pop_ts_xlsx_dfdct[fname])\n",
    "\n",
    "print(\"Total processed xlsx-files with time-series data: {}\".format(len(fname_xlsx_time_series)))\n",
    "print('Total processed records: {}'.format(xlsx_raw_ts_records_processed))"
   ]
  },
  {
   "cell_type": "code",
   "execution_count": 54,
   "id": "d644798b-12e6-486a-b8f3-f2edeb5f6f9c",
   "metadata": {},
   "outputs": [
    {
     "data": {
      "application/vnd.jupyter.widget-view+json": {
       "model_id": "71e2d81f46074384bebad0c67f5119f8",
       "version_major": 2,
       "version_minor": 0
      },
      "text/plain": [
       "interactive(children=(Dropdown(description='fname', options=('2019-08-19_1st_dataset_082819_pLysRsfGFP_IAI6_to…"
      ]
     },
     "metadata": {},
     "output_type": "display_data"
    }
   ],
   "source": [
    "# Let's inspect loaded time-series xlsx-data: columns 1 - 18 with general experiment descriptions\n",
    "@interact\n",
    "def view_pop_ts_xlsx(fname=list(pop_ts_xlsx_dfdct.keys()), lines=61):\n",
    "    display(pop_ts_xlsx_dfdct[fname].iloc[:, 0:17].head(lines))"
   ]
  },
  {
   "cell_type": "code",
   "execution_count": 57,
   "id": "f4c61731-7b64-4137-b9d4-1dd0e33e1b41",
   "metadata": {},
   "outputs": [
    {
     "data": {
      "application/vnd.jupyter.widget-view+json": {
       "model_id": "e1f69b5e9b8445a6bea442ab82b43c3c",
       "version_major": 2,
       "version_minor": 0
      },
      "text/plain": [
       "interactive(children=(Dropdown(description='fname', options=('2019-08-19_1st_dataset_082819_pLysRsfGFP_IAI6_to…"
      ]
     },
     "metadata": {},
     "output_type": "display_data"
    }
   ],
   "source": [
    "# Let's inspect loaded time-series xlsx-data: \n",
    "# columns A1-A12, B1-B12, C1-C12 with high cortisol levels\n",
    "# columns D1-D12, E1-E12, F1-F12 with low cortisol levels\n",
    "# Select the desired column letter, e.g. 'C' to view C1-C12 columns, 'F' to view F1-F12 columns, etc.\n",
    "replica = 'A'\n",
    "\n",
    "if replica == 'A':\n",
    "    start = 16        # A1\n",
    "    end = 29          # A12\n",
    "elif replica == 'B':\n",
    "    start = 29        # B1\n",
    "    end = 41          # B12\n",
    "elif replica == 'C':\n",
    "    start = 41        # C1\n",
    "    end = 53          # C12\n",
    "elif replica == 'D':\n",
    "    start = 53        # D1\n",
    "    end = 65          # D12\n",
    "elif replica == 'E':\n",
    "    start = 65        # E1\n",
    "    end = 77          # E12\n",
    "else:\n",
    "    start = 77        # F1\n",
    "    end = 89          # F12\n",
    "    \n",
    "@interact\n",
    "def view_csv(fname=list(pop_ts_xlsx_dfdct.keys()), lines=61):\n",
    "    display(pop_ts_xlsx_dfdct[fname].iloc[:,start:end].head(lines))"
   ]
  },
  {
   "cell_type": "markdown",
   "id": "29f42f14-05c5-4267-9cbf-4a6e0bcf35a1",
   "metadata": {},
   "source": [
    "### Per-cell calibartion of population-wide time-series data<a id='3.2.7'></a>"
   ]
  },
  {
   "cell_type": "code",
   "execution_count": null,
   "id": "b595fee9-0d65-4d1c-8853-b69282ffa676",
   "metadata": {},
   "outputs": [],
   "source": [
    "def get_single_cell_time_series_data(pts_df = np.nan,\n",
    "                                     bgd_df = np.nan):\n",
    "    \"\"\"\n",
    "    get_single_cell_time_series_data is a function to normalize population-wide time-series data per a single cell\n",
    "    \n",
    "    Input:\n",
    "    (1) pts_df - a DataFrame with population-wide time-series data\n",
    "    (2) bd_df - a DataFrame with background data\n",
    "\n",
    "    Input data format:\n",
    "    columns A1-D12, B1-B12, and C1-C12 correspond to the first 12 (highest) cortisol dosages\n",
    "    columns D1-D24, E1-E12, and F1-F12 correspond to the last 12 (lowerest) cortisol dosages\n",
    "    columns G1-G12 store control values for A1-12, B1-12, and C1-12, correspondingly\n",
    "    columns H1-H12 store control values for A1-12, B1-12, and C1-12, correspondingly\n",
    "    triples (A,B,C) and (D,E,F) are replicated measurements\n",
    "\n",
    "    Output:\n",
    "    scts_df - a DataFrame with single celln (sc) time series data\n",
    "    \n",
    "    Required modules:\n",
    "    import pandas as pd\n",
    "    import re\n",
    "    \"\"\"\n",
    "    \n",
    "    # Subset time series values only\n",
    "    col_names = pts_df.columns\n",
    "    regex_vals = re.compile(r'^[A-H]{1}\\d+$')\n",
    "    col_names_vals = [name for name in col_names if regex_vals.match(name)]    \n",
    "    vals_pts_df = pts_df[col_names_vals]\n",
    "    vals_bgd_df = bgd_df[col_names_vals]\n",
    "    \n",
    "    vals_pts_df[ vals_pts_df == 'OVRFLW'  ] = np.nan\n",
    "    vals_bgd_df[ vals_bgd_df == 'OVRFLW'  ] = np.nan\n",
    "    \n",
    "\n",
    "    \n",
    "    vals_col_names = vals_pts_df.columns\n",
    "    \n",
    "    # Subset time series control values only\n",
    "    regex_control = re.compile(r'^[G,H]{1}\\d+$')\n",
    "    col_names_control = [name for name in vals_col_names if regex_control.match(name)]\n",
    "    pts_control_df = vals_pts_df[col_names_control]\n",
    "    bgd_control_df = vals_bgd_df[col_names_control]\n",
    "        \n",
    "    # Subset time series with signal values only\n",
    "    col_names_signal = [name for name in vals_col_names if not regex_control.match(name)]\n",
    "    pts_signal_df = vals_pts_df[col_names_signal]\n",
    "    bgd_signal_df = vals_bgd_df[col_names_signal]\n",
    "    \n",
    "    # Normalize signal time-series data per cell\n",
    "    display('try:')\n",
    "    pts_signal_df = pts_signal_df.astype(float)\n",
    "    display(pts_signal_df.head())\n",
    "    \n",
    "    bgd_signal_df = bgd_signal_df.astype(float)\n",
    "    display(bgd_signal_df.head())\n",
    "    #display(pts_signal_df.dtypes)\n",
    "    #display(bgd_signal_df.dtypes)\n",
    "    ts_cell_raw_df = pts_signal_df.div(bgd_signal_df)\n",
    "    display('passed')\n",
    "    \n",
    "    # Normalize control time-series data per cell\n",
    "    ts_cell_control_df = pts_control_df.div(bgd_control_df)\n",
    "    \n",
    "    # Calibrate normalized time series stored in A1-A12, B1-B12, and C1-C12 columns\n",
    "    regex_ABC = re.compile(r'^[A,B,C]{1}\\d+$')\n",
    "    regex_G = re.compile(r'^[G]{1}\\d+$')\n",
    "    col_ABC = [name for name in vals_col_names if regex_ABC.match(name)]\n",
    "    col_G = [name for name in vals_col_names if regex_G.match(name)]\n",
    "    ABC_df = ts_cell_raw_df[col_ABC]\n",
    "    G_df = ts_cell_control_df[col_G]\n",
    "    GGG_df = pd.concat([G_df, G_df, G_df], axis=1)\n",
    "    GGG_df.columns = ABC_df.columns\n",
    "    ABC_calib_df = ABC_df.subtract(GGG_df, axis = 1)\n",
    "    ABC_calib_df[ ABC_calib_df < 0  ] = np.nan\n",
    "    col_names_not_vals = [name for name in col_names if not regex_vals.match(name)]    \n",
    "    scts_df = pts_df[col_names_not_vals]    \n",
    "    for i in range( ABC_calib_df.shape[1] // 3 ):\n",
    "        i_str = str(i + 1)\n",
    "        cols_AiBiCi = ['A' + i_str, 'B' + i_str, 'C' + i_str]\n",
    "        scts_df = pd.concat([scts_df, ABC_calib_df[ cols_AiBiCi ]], axis=1)\n",
    "        \n",
    "    # Calibrate and re-arrange normalized time series stored in D1-D12, E1-E12, and F1-F12 columns\n",
    "    regex_DEF = re.compile(r'^[D,E,F]{1}\\d+$')\n",
    "    regex_H = re.compile(r'^[H]{1}\\d+$')\n",
    "    col_DEF = [name for name in vals_col_names if regex_DEF.match(name)]\n",
    "    col_H = [name for name in vals_col_names if regex_H.match(name)]\n",
    "    DEF_df = ts_cell_raw_df[col_DEF]\n",
    "    H_df = ts_cell_control_df[col_H]\n",
    "    HHH_df = pd.concat([H_df, H_df, H_df], axis=1)\n",
    "    HHH_df.columns = DEF_df.columns\n",
    "    DEF_calib_df = DEF_df.subtract(HHH_df, axis = 1)\n",
    "    DEF_calib_df[ DEF_calib_df < 0  ] = np.nan\n",
    "    for i in range( DEF_calib_df.shape[1] // 3 ):\n",
    "        i_str = str(i + 1)\n",
    "        cols_DiEiFi = ['D' + i_str, 'E' + i_str, 'F' + i_str]\n",
    "        scts_df = pd.concat([scts_df, DEF_calib_df[ cols_DiEiFi ]], axis=1)\n",
    "        \n",
    "    return scts_df\n",
    "        \n",
    "print('A function to get single-cell data has been defined.')    "
   ]
  },
  {
   "cell_type": "code",
   "execution_count": null,
   "id": "12d40289-a621-42df-b9a7-c658a4151658",
   "metadata": {},
   "outputs": [],
   "source": [
    "fname = '2019-10-30_103019_Cort_vs_THF_in_pLysRsfGFP_EN1917_Apmr_in_tolC_mutant.xlsx'\n",
    "pts_ts_xlsx_df = pts_ts_xlsx_dfdct[fname]\n",
    "display(pts_ts_xlsx_df.head())\n",
    "bgd_ts_xlsx_df = bgd_ts_xlsx_dfdct[fname]\n",
    "display(bgd_ts_xlsx_df.head())\n",
    "sc_ts_xlsx_df = get_single_cell_time_series_data(pts_df = pts_ts_xlsx_df, bgd_df = bgd_ts_xlsx_df)\n",
    "sc_ts_xlsx_df.head()"
   ]
  },
  {
   "cell_type": "code",
   "execution_count": null,
   "id": "d9e5eab2-6c0b-45b6-ae9f-66be365c243f",
   "metadata": {},
   "outputs": [],
   "source": [
    "sc_ts_xlsx_dfdct = {}\n",
    "print('REPORT ON CALIBRATED SINGLE-CELL TIME-SERIES xlsx-DATA:')\n",
    "for fname in pts_ts_xlsx_dfdct.keys():\n",
    "    display(fname)\n",
    "    pts_ts_xlsx_df = pts_ts_xlsx_dfdct[fname]\n",
    "    display(pts_ts_xlsx_df.head())\n",
    "    bgd_ts_xlsx_df = bgd_ts_xlsx_dfdct[fname]\n",
    "    display(bgd_ts_xlsx_df.head())\n",
    "    sc_ts_xlsx_df = get_single_cell_time_series_data(pts_df = pts_ts_xlsx_df,\n",
    "                                                     bgd_df = bgd_ts_xlsx_df)\n",
    "    display(sc_ts_xlsx_df.head())\n",
    "    sc_ts_xlsx_dfdct[fname] = sc_ts_xlsx_df.copy(deep=True)\n",
    "    #print('Extracted {} records across {} columns from total {} records in the xlsx-file: {}'.format(pts_df.shape[0], pts_df.shape[1], len(df_raw_ts), fname))\n",
    "    #xlsx_raw_ts_records_processed += len(pts_ts_xlsx_dfdct[fname])\n",
    "\n",
    "#print(\"Total processed xlsx-files with time-series data: {}\".format(len(fname_xlsx_time_series)))\n",
    "#print('Total processed records: {}'.format(xlsx_raw_ts_records_processed))"
   ]
  }
 ],
 "metadata": {
  "colab": {
   "collapsed_sections": [
    "legitimate-frederick"
   ],
   "name": "process_datasets.ipynb",
   "provenance": [],
   "toc_visible": true
  },
  "kernelspec": {
   "display_name": "Python 3 (ipykernel)",
   "language": "python",
   "name": "python3"
  },
  "language_info": {
   "codemirror_mode": {
    "name": "ipython",
    "version": 3
   },
   "file_extension": ".py",
   "mimetype": "text/x-python",
   "name": "python",
   "nbconvert_exporter": "python",
   "pygments_lexer": "ipython3",
   "version": "3.9.5"
  },
  "latex_envs": {
   "LaTeX_envs_menu_present": true,
   "autoclose": true,
   "autocomplete": true,
   "bibliofile": "biblio.bib",
   "cite_by": "apalike",
   "current_citInitial": 1,
   "eqLabelWithNumbers": true,
   "eqNumInitial": 1,
   "hotkeys": {
    "equation": "Ctrl-E",
    "itemize": "Ctrl-I"
   },
   "labels_anchors": false,
   "latex_user_defs": false,
   "report_style_numbering": false,
   "user_envs_cfg": false
  },
  "toc": {
   "base_numbering": 1,
   "nav_menu": {},
   "number_sections": true,
   "sideBar": true,
   "skip_h1_title": true,
   "title_cell": "Table of Contents",
   "title_sidebar": "Contents",
   "toc_cell": true,
   "toc_position": {},
   "toc_section_display": true,
   "toc_window_display": true
  },
  "toc-autonumbering": true,
  "toc-showcode": false,
  "toc-showmarkdowntxt": false,
  "toc-showtags": false,
  "varInspector": {
   "cols": {
    "lenName": 16,
    "lenType": 16,
    "lenVar": 40
   },
   "kernels_config": {
    "python": {
     "delete_cmd_postfix": "",
     "delete_cmd_prefix": "del ",
     "library": "var_list.py",
     "varRefreshCmd": "print(var_dic_list())"
    },
    "r": {
     "delete_cmd_postfix": ") ",
     "delete_cmd_prefix": "rm(",
     "library": "var_list.r",
     "varRefreshCmd": "cat(var_dic_list()) "
    }
   },
   "types_to_exclude": [
    "module",
    "function",
    "builtin_function_or_method",
    "instance",
    "_Feature"
   ],
   "window_display": false
  }
 },
 "nbformat": 4,
 "nbformat_minor": 5
}
